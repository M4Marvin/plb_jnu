{
 "cells": [
  {
   "cell_type": "code",
   "execution_count": 3,
   "metadata": {},
   "outputs": [
    {
     "name": "stdout",
     "output_type": "stream",
     "text": [
      "\u001b[31mERROR: pip's dependency resolver does not currently take into account all the packages that are installed. This behaviour is the source of the following dependency conflicts.\n",
      "numba 0.56.4 requires numpy<1.24,>=1.18, but you have numpy 1.26.4 which is incompatible.\u001b[0m\u001b[31m\n",
      "\u001b[0mNote: you may need to restart the kernel to use updated packages.\n"
     ]
    }
   ],
   "source": [
    "%pip install -q -U matplotlib numpy pandas scikit-learn seaborn plotly nbformat scipy"
   ]
  },
  {
   "cell_type": "code",
   "execution_count": null,
   "metadata": {},
   "outputs": [],
   "source": [
    "!"
   ]
  },
  {
   "cell_type": "code",
   "execution_count": 1,
   "metadata": {},
   "outputs": [],
   "source": [
    "import os\n",
    "\n",
    "import numpy as np\n",
    "import pandas as pd\n",
    "import plotly.express as px"
   ]
  },
  {
   "cell_type": "markdown",
   "metadata": {},
   "source": [
    "### 1. Use Vectorized Operations Over Loops\n",
    "\n",
    "- **Removing missing structural data** and **distinguishing between general and refined sets** can be significantly optimized by avoiding explicit loops. Pandas and NumPy support vectorized operations that are more efficient for these tasks.\n",
    "\n",
    "### 2. Efficient File Existence Check\n",
    "\n",
    "- Instead of constructing the file path and checking if it is a directory for each PDB ID, it's more efficient to read the directory contents once and then check membership. This reduces the number of file system operations, which are relatively slow.\n",
    "\n",
    "### 3. Handling File Paths\n",
    "\n",
    "- Use `os.path.join` for constructing file paths to ensure the code is cross-platform (Windows, Linux, macOS).\n",
    "\n",
    "### 4. Improved NaN Checking\n",
    "\n",
    "- Directly use `data['-log(Kd/Ki)'].isnull().any()` in the if condition without comparing it to `False`.\n",
    "\n",
    "### 5. Plotting Enhancements\n",
    "\n",
    "- The plotting section can be improved for readability and customization. For instance, `sns.distplot` is deprecated in newer versions of seaborn; using `sns.histplot` with appropriate arguments would be better.\n",
    "- Adjust the plot's appearance for clarity, such as by adding labels or adjusting the bin size for histograms.\n",
    "\n",
    "### 6. Error Handling\n",
    "\n",
    "- Add error handling to manage scenarios where input files or directories are not found, or the output file cannot be written.\n",
    "\n",
    "### 7. Code Comments and Docstrings\n",
    "\n",
    "- Improve code comments and docstrings for better readability and maintainability. Ensure the docstring accurately describes all parameters and the function's behavior.\n",
    "\n",
    "### 8. Improved plotting using plotly\n",
    "\n",
    "- Use Plotly for interactive and more visually appealing plots. Plotly provides a wide range of customization options and interactivity features that can enhance the visualization of the data.\n"
   ]
  },
  {
   "cell_type": "code",
   "execution_count": 2,
   "metadata": {},
   "outputs": [],
   "source": [
    "features_file_path = \"HAC-Net/HACNet/element_features.xml\""
   ]
  },
  {
   "cell_type": "code",
   "execution_count": 3,
   "metadata": {},
   "outputs": [],
   "source": [
    "def create_cleaned_dataset(\n",
    "    PDBbind_dataset_path,\n",
    "    general_set_PDBs_path,\n",
    "    refined_set_PDBs_path,\n",
    "    output_name,\n",
    "    plot=False,\n",
    "    verbose=True,\n",
    "):\n",
    "    \"\"\"\n",
    "    Produces a csv file containing PDB id, binding affinity, and set (general/refined)\n",
    "\n",
    "    Inputs:\n",
    "    1) PDBbind_dataset_path: path to PDBbind dataset; dataset is included in github repository as 'PDBbind_2020_data.csv'\n",
    "    2) general_set_PDBs_path: path to PDBbind general set excluding refined set PDBs\n",
    "    3) refined_set_PDBs_path: path to PDBbind refined set PDBs\n",
    "    4) output_name: name for the output csv file. Must end in .csv\n",
    "    5) plot = True will generate a plot of density as a function of binding affinity for general\n",
    "    and refined sets\n",
    "\n",
    "    Output:\n",
    "    1) A cleaned csv containing PDB id, binding affinity, and set (general/refined):\n",
    "    'output_name.csv'\n",
    "    \"\"\"\n",
    "    # Load dataset\n",
    "    data = pd.read_csv(PDBbind_dataset_path)\n",
    "    if verbose:\n",
    "        print(f\"Loaded dataset from {PDBbind_dataset_path} with {len(data)} entries.\")\n",
    "\n",
    "    # Check for NaNs in affinity data\n",
    "    if data[\"-log(Kd/Ki)\"].isnull().any():\n",
    "        if verbose:\n",
    "            print(\"There are NaNs present in affinity data!\")\n",
    "\n",
    "    # Efficiently check for missing structural data\n",
    "    general_pdb_set = set(os.listdir(general_set_PDBs_path))\n",
    "    refined_pdb_set = set(os.listdir(refined_set_PDBs_path))\n",
    "    if verbose:\n",
    "        print(\n",
    "            f\"Found {len(general_pdb_set)} PDBs in general set, {len(refined_pdb_set)} in refined set.\"\n",
    "        )\n",
    "\n",
    "    data[\"set\"] = data[\"PDB ID\"].apply(\n",
    "        lambda x: (\n",
    "            \"general\"\n",
    "            if x in general_pdb_set\n",
    "            else (\"refined\" if x in refined_pdb_set else np.nan)\n",
    "        )\n",
    "    )\n",
    "    initial_length = len(data)\n",
    "    data.dropna(subset=[\"set\"], inplace=True)\n",
    "    if verbose:\n",
    "        print(f\"Removed {initial_length - len(data)} entries without structural data.\")\n",
    "\n",
    "    # Write out csv of cleaned dataset\n",
    "    data[[\"PDB ID\", \"-log(Kd/Ki)\", \"set\"]].to_csv(output_name, index=False)\n",
    "    if verbose:\n",
    "        print(f\"Cleaned dataset written to {output_name} with {len(data)} entries.\")\n",
    "\n",
    "    # Plot if required\n",
    "    if plot:\n",
    "        fig = px.histogram(\n",
    "            data,\n",
    "            x=\"-log(Kd/Ki)\",\n",
    "            color=\"set\",\n",
    "            barmode=\"overlay\",\n",
    "            histnorm=\"density\",\n",
    "            title=\"Density of Binding Affinity by Set\",\n",
    "        )\n",
    "        fig.update_layout(xaxis_title=\"-log(Kd/Ki)\", yaxis_title=\"Density\")\n",
    "        fig.show()\n",
    "        if verbose:\n",
    "            print(\n",
    "                \"Interactive plot generated showing the density of binding affinity by set.\"\n",
    "            )"
   ]
  },
  {
   "cell_type": "code",
   "execution_count": 4,
   "metadata": {},
   "outputs": [
    {
     "ename": "FileNotFoundError",
     "evalue": "[Errno 2] No such file or directory: 'HAC-Net/input_files/PDBbind_2020_data.csv'",
     "output_type": "error",
     "traceback": [
      "\u001b[0;31m---------------------------------------------------------------------------\u001b[0m",
      "\u001b[0;31mFileNotFoundError\u001b[0m                         Traceback (most recent call last)",
      "Cell \u001b[0;32mIn[4], line 2\u001b[0m\n\u001b[1;32m      1\u001b[0m \u001b[38;5;66;03m# create cleaned dataset\u001b[39;00m\n\u001b[0;32m----> 2\u001b[0m \u001b[43mcreate_cleaned_dataset\u001b[49m\u001b[43m(\u001b[49m\n\u001b[1;32m      3\u001b[0m \u001b[43m    \u001b[49m\u001b[43mPDBbind_dataset_path\u001b[49m\u001b[38;5;241;43m=\u001b[39;49m\u001b[38;5;124;43m\"\u001b[39;49m\u001b[38;5;124;43mHAC-Net/input_files/PDBbind_2020_data.csv\u001b[39;49m\u001b[38;5;124;43m\"\u001b[39;49m\u001b[43m,\u001b[49m\n\u001b[1;32m      4\u001b[0m \u001b[43m    \u001b[49m\u001b[43mgeneral_set_PDBs_path\u001b[49m\u001b[38;5;241;43m=\u001b[39;49m\u001b[38;5;124;43m\"\u001b[39;49m\u001b[38;5;124;43mPDBbind/general-set/\u001b[39;49m\u001b[38;5;124;43m\"\u001b[39;49m\u001b[43m,\u001b[49m\n\u001b[1;32m      5\u001b[0m \u001b[43m    \u001b[49m\u001b[43mrefined_set_PDBs_path\u001b[49m\u001b[38;5;241;43m=\u001b[39;49m\u001b[38;5;124;43m\"\u001b[39;49m\u001b[38;5;124;43mPDBbind/refined-set/\u001b[39;49m\u001b[38;5;124;43m\"\u001b[39;49m\u001b[43m,\u001b[49m\n\u001b[1;32m      6\u001b[0m \u001b[43m    \u001b[49m\u001b[43moutput_name\u001b[49m\u001b[38;5;241;43m=\u001b[39;49m\u001b[38;5;124;43m\"\u001b[39;49m\u001b[38;5;124;43mPDBbind/PDBbind_cleaned_dataset.csv\u001b[39;49m\u001b[38;5;124;43m\"\u001b[39;49m\u001b[43m,\u001b[49m\n\u001b[1;32m      7\u001b[0m \u001b[43m    \u001b[49m\u001b[43mplot\u001b[49m\u001b[38;5;241;43m=\u001b[39;49m\u001b[38;5;28;43;01mTrue\u001b[39;49;00m\u001b[43m,\u001b[49m\n\u001b[1;32m      8\u001b[0m \u001b[43m)\u001b[49m\n",
      "Cell \u001b[0;32mIn[3], line 25\u001b[0m, in \u001b[0;36mcreate_cleaned_dataset\u001b[0;34m(PDBbind_dataset_path, general_set_PDBs_path, refined_set_PDBs_path, output_name, plot, verbose)\u001b[0m\n\u001b[1;32m      9\u001b[0m \u001b[38;5;250m\u001b[39m\u001b[38;5;124;03m\"\"\"\u001b[39;00m\n\u001b[1;32m     10\u001b[0m \u001b[38;5;124;03mProduces a csv file containing PDB id, binding affinity, and set (general/refined)\u001b[39;00m\n\u001b[1;32m     11\u001b[0m \n\u001b[0;32m   (...)\u001b[0m\n\u001b[1;32m     22\u001b[0m \u001b[38;5;124;03m'output_name.csv'\u001b[39;00m\n\u001b[1;32m     23\u001b[0m \u001b[38;5;124;03m\"\"\"\u001b[39;00m\n\u001b[1;32m     24\u001b[0m \u001b[38;5;66;03m# Load dataset\u001b[39;00m\n\u001b[0;32m---> 25\u001b[0m data \u001b[38;5;241m=\u001b[39m \u001b[43mpd\u001b[49m\u001b[38;5;241;43m.\u001b[39;49m\u001b[43mread_csv\u001b[49m\u001b[43m(\u001b[49m\u001b[43mPDBbind_dataset_path\u001b[49m\u001b[43m)\u001b[49m\n\u001b[1;32m     26\u001b[0m \u001b[38;5;28;01mif\u001b[39;00m verbose:\n\u001b[1;32m     27\u001b[0m     \u001b[38;5;28mprint\u001b[39m(\u001b[38;5;124mf\u001b[39m\u001b[38;5;124m\"\u001b[39m\u001b[38;5;124mLoaded dataset from \u001b[39m\u001b[38;5;132;01m{\u001b[39;00mPDBbind_dataset_path\u001b[38;5;132;01m}\u001b[39;00m\u001b[38;5;124m with \u001b[39m\u001b[38;5;132;01m{\u001b[39;00m\u001b[38;5;28mlen\u001b[39m(data)\u001b[38;5;132;01m}\u001b[39;00m\u001b[38;5;124m entries.\u001b[39m\u001b[38;5;124m\"\u001b[39m)\n",
      "File \u001b[0;32m~/miniforge3/envs/bio/lib/python3.10/site-packages/pandas/io/parsers/readers.py:1026\u001b[0m, in \u001b[0;36mread_csv\u001b[0;34m(filepath_or_buffer, sep, delimiter, header, names, index_col, usecols, dtype, engine, converters, true_values, false_values, skipinitialspace, skiprows, skipfooter, nrows, na_values, keep_default_na, na_filter, verbose, skip_blank_lines, parse_dates, infer_datetime_format, keep_date_col, date_parser, date_format, dayfirst, cache_dates, iterator, chunksize, compression, thousands, decimal, lineterminator, quotechar, quoting, doublequote, escapechar, comment, encoding, encoding_errors, dialect, on_bad_lines, delim_whitespace, low_memory, memory_map, float_precision, storage_options, dtype_backend)\u001b[0m\n\u001b[1;32m   1013\u001b[0m kwds_defaults \u001b[38;5;241m=\u001b[39m _refine_defaults_read(\n\u001b[1;32m   1014\u001b[0m     dialect,\n\u001b[1;32m   1015\u001b[0m     delimiter,\n\u001b[0;32m   (...)\u001b[0m\n\u001b[1;32m   1022\u001b[0m     dtype_backend\u001b[38;5;241m=\u001b[39mdtype_backend,\n\u001b[1;32m   1023\u001b[0m )\n\u001b[1;32m   1024\u001b[0m kwds\u001b[38;5;241m.\u001b[39mupdate(kwds_defaults)\n\u001b[0;32m-> 1026\u001b[0m \u001b[38;5;28;01mreturn\u001b[39;00m \u001b[43m_read\u001b[49m\u001b[43m(\u001b[49m\u001b[43mfilepath_or_buffer\u001b[49m\u001b[43m,\u001b[49m\u001b[43m \u001b[49m\u001b[43mkwds\u001b[49m\u001b[43m)\u001b[49m\n",
      "File \u001b[0;32m~/miniforge3/envs/bio/lib/python3.10/site-packages/pandas/io/parsers/readers.py:620\u001b[0m, in \u001b[0;36m_read\u001b[0;34m(filepath_or_buffer, kwds)\u001b[0m\n\u001b[1;32m    617\u001b[0m _validate_names(kwds\u001b[38;5;241m.\u001b[39mget(\u001b[38;5;124m\"\u001b[39m\u001b[38;5;124mnames\u001b[39m\u001b[38;5;124m\"\u001b[39m, \u001b[38;5;28;01mNone\u001b[39;00m))\n\u001b[1;32m    619\u001b[0m \u001b[38;5;66;03m# Create the parser.\u001b[39;00m\n\u001b[0;32m--> 620\u001b[0m parser \u001b[38;5;241m=\u001b[39m \u001b[43mTextFileReader\u001b[49m\u001b[43m(\u001b[49m\u001b[43mfilepath_or_buffer\u001b[49m\u001b[43m,\u001b[49m\u001b[43m \u001b[49m\u001b[38;5;241;43m*\u001b[39;49m\u001b[38;5;241;43m*\u001b[39;49m\u001b[43mkwds\u001b[49m\u001b[43m)\u001b[49m\n\u001b[1;32m    622\u001b[0m \u001b[38;5;28;01mif\u001b[39;00m chunksize \u001b[38;5;129;01mor\u001b[39;00m iterator:\n\u001b[1;32m    623\u001b[0m     \u001b[38;5;28;01mreturn\u001b[39;00m parser\n",
      "File \u001b[0;32m~/miniforge3/envs/bio/lib/python3.10/site-packages/pandas/io/parsers/readers.py:1620\u001b[0m, in \u001b[0;36mTextFileReader.__init__\u001b[0;34m(self, f, engine, **kwds)\u001b[0m\n\u001b[1;32m   1617\u001b[0m     \u001b[38;5;28mself\u001b[39m\u001b[38;5;241m.\u001b[39moptions[\u001b[38;5;124m\"\u001b[39m\u001b[38;5;124mhas_index_names\u001b[39m\u001b[38;5;124m\"\u001b[39m] \u001b[38;5;241m=\u001b[39m kwds[\u001b[38;5;124m\"\u001b[39m\u001b[38;5;124mhas_index_names\u001b[39m\u001b[38;5;124m\"\u001b[39m]\n\u001b[1;32m   1619\u001b[0m \u001b[38;5;28mself\u001b[39m\u001b[38;5;241m.\u001b[39mhandles: IOHandles \u001b[38;5;241m|\u001b[39m \u001b[38;5;28;01mNone\u001b[39;00m \u001b[38;5;241m=\u001b[39m \u001b[38;5;28;01mNone\u001b[39;00m\n\u001b[0;32m-> 1620\u001b[0m \u001b[38;5;28mself\u001b[39m\u001b[38;5;241m.\u001b[39m_engine \u001b[38;5;241m=\u001b[39m \u001b[38;5;28;43mself\u001b[39;49m\u001b[38;5;241;43m.\u001b[39;49m\u001b[43m_make_engine\u001b[49m\u001b[43m(\u001b[49m\u001b[43mf\u001b[49m\u001b[43m,\u001b[49m\u001b[43m \u001b[49m\u001b[38;5;28;43mself\u001b[39;49m\u001b[38;5;241;43m.\u001b[39;49m\u001b[43mengine\u001b[49m\u001b[43m)\u001b[49m\n",
      "File \u001b[0;32m~/miniforge3/envs/bio/lib/python3.10/site-packages/pandas/io/parsers/readers.py:1880\u001b[0m, in \u001b[0;36mTextFileReader._make_engine\u001b[0;34m(self, f, engine)\u001b[0m\n\u001b[1;32m   1878\u001b[0m     \u001b[38;5;28;01mif\u001b[39;00m \u001b[38;5;124m\"\u001b[39m\u001b[38;5;124mb\u001b[39m\u001b[38;5;124m\"\u001b[39m \u001b[38;5;129;01mnot\u001b[39;00m \u001b[38;5;129;01min\u001b[39;00m mode:\n\u001b[1;32m   1879\u001b[0m         mode \u001b[38;5;241m+\u001b[39m\u001b[38;5;241m=\u001b[39m \u001b[38;5;124m\"\u001b[39m\u001b[38;5;124mb\u001b[39m\u001b[38;5;124m\"\u001b[39m\n\u001b[0;32m-> 1880\u001b[0m \u001b[38;5;28mself\u001b[39m\u001b[38;5;241m.\u001b[39mhandles \u001b[38;5;241m=\u001b[39m \u001b[43mget_handle\u001b[49m\u001b[43m(\u001b[49m\n\u001b[1;32m   1881\u001b[0m \u001b[43m    \u001b[49m\u001b[43mf\u001b[49m\u001b[43m,\u001b[49m\n\u001b[1;32m   1882\u001b[0m \u001b[43m    \u001b[49m\u001b[43mmode\u001b[49m\u001b[43m,\u001b[49m\n\u001b[1;32m   1883\u001b[0m \u001b[43m    \u001b[49m\u001b[43mencoding\u001b[49m\u001b[38;5;241;43m=\u001b[39;49m\u001b[38;5;28;43mself\u001b[39;49m\u001b[38;5;241;43m.\u001b[39;49m\u001b[43moptions\u001b[49m\u001b[38;5;241;43m.\u001b[39;49m\u001b[43mget\u001b[49m\u001b[43m(\u001b[49m\u001b[38;5;124;43m\"\u001b[39;49m\u001b[38;5;124;43mencoding\u001b[39;49m\u001b[38;5;124;43m\"\u001b[39;49m\u001b[43m,\u001b[49m\u001b[43m \u001b[49m\u001b[38;5;28;43;01mNone\u001b[39;49;00m\u001b[43m)\u001b[49m\u001b[43m,\u001b[49m\n\u001b[1;32m   1884\u001b[0m \u001b[43m    \u001b[49m\u001b[43mcompression\u001b[49m\u001b[38;5;241;43m=\u001b[39;49m\u001b[38;5;28;43mself\u001b[39;49m\u001b[38;5;241;43m.\u001b[39;49m\u001b[43moptions\u001b[49m\u001b[38;5;241;43m.\u001b[39;49m\u001b[43mget\u001b[49m\u001b[43m(\u001b[49m\u001b[38;5;124;43m\"\u001b[39;49m\u001b[38;5;124;43mcompression\u001b[39;49m\u001b[38;5;124;43m\"\u001b[39;49m\u001b[43m,\u001b[49m\u001b[43m \u001b[49m\u001b[38;5;28;43;01mNone\u001b[39;49;00m\u001b[43m)\u001b[49m\u001b[43m,\u001b[49m\n\u001b[1;32m   1885\u001b[0m \u001b[43m    \u001b[49m\u001b[43mmemory_map\u001b[49m\u001b[38;5;241;43m=\u001b[39;49m\u001b[38;5;28;43mself\u001b[39;49m\u001b[38;5;241;43m.\u001b[39;49m\u001b[43moptions\u001b[49m\u001b[38;5;241;43m.\u001b[39;49m\u001b[43mget\u001b[49m\u001b[43m(\u001b[49m\u001b[38;5;124;43m\"\u001b[39;49m\u001b[38;5;124;43mmemory_map\u001b[39;49m\u001b[38;5;124;43m\"\u001b[39;49m\u001b[43m,\u001b[49m\u001b[43m \u001b[49m\u001b[38;5;28;43;01mFalse\u001b[39;49;00m\u001b[43m)\u001b[49m\u001b[43m,\u001b[49m\n\u001b[1;32m   1886\u001b[0m \u001b[43m    \u001b[49m\u001b[43mis_text\u001b[49m\u001b[38;5;241;43m=\u001b[39;49m\u001b[43mis_text\u001b[49m\u001b[43m,\u001b[49m\n\u001b[1;32m   1887\u001b[0m \u001b[43m    \u001b[49m\u001b[43merrors\u001b[49m\u001b[38;5;241;43m=\u001b[39;49m\u001b[38;5;28;43mself\u001b[39;49m\u001b[38;5;241;43m.\u001b[39;49m\u001b[43moptions\u001b[49m\u001b[38;5;241;43m.\u001b[39;49m\u001b[43mget\u001b[49m\u001b[43m(\u001b[49m\u001b[38;5;124;43m\"\u001b[39;49m\u001b[38;5;124;43mencoding_errors\u001b[39;49m\u001b[38;5;124;43m\"\u001b[39;49m\u001b[43m,\u001b[49m\u001b[43m \u001b[49m\u001b[38;5;124;43m\"\u001b[39;49m\u001b[38;5;124;43mstrict\u001b[39;49m\u001b[38;5;124;43m\"\u001b[39;49m\u001b[43m)\u001b[49m\u001b[43m,\u001b[49m\n\u001b[1;32m   1888\u001b[0m \u001b[43m    \u001b[49m\u001b[43mstorage_options\u001b[49m\u001b[38;5;241;43m=\u001b[39;49m\u001b[38;5;28;43mself\u001b[39;49m\u001b[38;5;241;43m.\u001b[39;49m\u001b[43moptions\u001b[49m\u001b[38;5;241;43m.\u001b[39;49m\u001b[43mget\u001b[49m\u001b[43m(\u001b[49m\u001b[38;5;124;43m\"\u001b[39;49m\u001b[38;5;124;43mstorage_options\u001b[39;49m\u001b[38;5;124;43m\"\u001b[39;49m\u001b[43m,\u001b[49m\u001b[43m \u001b[49m\u001b[38;5;28;43;01mNone\u001b[39;49;00m\u001b[43m)\u001b[49m\u001b[43m,\u001b[49m\n\u001b[1;32m   1889\u001b[0m \u001b[43m\u001b[49m\u001b[43m)\u001b[49m\n\u001b[1;32m   1890\u001b[0m \u001b[38;5;28;01massert\u001b[39;00m \u001b[38;5;28mself\u001b[39m\u001b[38;5;241m.\u001b[39mhandles \u001b[38;5;129;01mis\u001b[39;00m \u001b[38;5;129;01mnot\u001b[39;00m \u001b[38;5;28;01mNone\u001b[39;00m\n\u001b[1;32m   1891\u001b[0m f \u001b[38;5;241m=\u001b[39m \u001b[38;5;28mself\u001b[39m\u001b[38;5;241m.\u001b[39mhandles\u001b[38;5;241m.\u001b[39mhandle\n",
      "File \u001b[0;32m~/miniforge3/envs/bio/lib/python3.10/site-packages/pandas/io/common.py:873\u001b[0m, in \u001b[0;36mget_handle\u001b[0;34m(path_or_buf, mode, encoding, compression, memory_map, is_text, errors, storage_options)\u001b[0m\n\u001b[1;32m    868\u001b[0m \u001b[38;5;28;01melif\u001b[39;00m \u001b[38;5;28misinstance\u001b[39m(handle, \u001b[38;5;28mstr\u001b[39m):\n\u001b[1;32m    869\u001b[0m     \u001b[38;5;66;03m# Check whether the filename is to be opened in binary mode.\u001b[39;00m\n\u001b[1;32m    870\u001b[0m     \u001b[38;5;66;03m# Binary mode does not support 'encoding' and 'newline'.\u001b[39;00m\n\u001b[1;32m    871\u001b[0m     \u001b[38;5;28;01mif\u001b[39;00m ioargs\u001b[38;5;241m.\u001b[39mencoding \u001b[38;5;129;01mand\u001b[39;00m \u001b[38;5;124m\"\u001b[39m\u001b[38;5;124mb\u001b[39m\u001b[38;5;124m\"\u001b[39m \u001b[38;5;129;01mnot\u001b[39;00m \u001b[38;5;129;01min\u001b[39;00m ioargs\u001b[38;5;241m.\u001b[39mmode:\n\u001b[1;32m    872\u001b[0m         \u001b[38;5;66;03m# Encoding\u001b[39;00m\n\u001b[0;32m--> 873\u001b[0m         handle \u001b[38;5;241m=\u001b[39m \u001b[38;5;28;43mopen\u001b[39;49m\u001b[43m(\u001b[49m\n\u001b[1;32m    874\u001b[0m \u001b[43m            \u001b[49m\u001b[43mhandle\u001b[49m\u001b[43m,\u001b[49m\n\u001b[1;32m    875\u001b[0m \u001b[43m            \u001b[49m\u001b[43mioargs\u001b[49m\u001b[38;5;241;43m.\u001b[39;49m\u001b[43mmode\u001b[49m\u001b[43m,\u001b[49m\n\u001b[1;32m    876\u001b[0m \u001b[43m            \u001b[49m\u001b[43mencoding\u001b[49m\u001b[38;5;241;43m=\u001b[39;49m\u001b[43mioargs\u001b[49m\u001b[38;5;241;43m.\u001b[39;49m\u001b[43mencoding\u001b[49m\u001b[43m,\u001b[49m\n\u001b[1;32m    877\u001b[0m \u001b[43m            \u001b[49m\u001b[43merrors\u001b[49m\u001b[38;5;241;43m=\u001b[39;49m\u001b[43merrors\u001b[49m\u001b[43m,\u001b[49m\n\u001b[1;32m    878\u001b[0m \u001b[43m            \u001b[49m\u001b[43mnewline\u001b[49m\u001b[38;5;241;43m=\u001b[39;49m\u001b[38;5;124;43m\"\u001b[39;49m\u001b[38;5;124;43m\"\u001b[39;49m\u001b[43m,\u001b[49m\n\u001b[1;32m    879\u001b[0m \u001b[43m        \u001b[49m\u001b[43m)\u001b[49m\n\u001b[1;32m    880\u001b[0m     \u001b[38;5;28;01melse\u001b[39;00m:\n\u001b[1;32m    881\u001b[0m         \u001b[38;5;66;03m# Binary mode\u001b[39;00m\n\u001b[1;32m    882\u001b[0m         handle \u001b[38;5;241m=\u001b[39m \u001b[38;5;28mopen\u001b[39m(handle, ioargs\u001b[38;5;241m.\u001b[39mmode)\n",
      "\u001b[0;31mFileNotFoundError\u001b[0m: [Errno 2] No such file or directory: 'HAC-Net/input_files/PDBbind_2020_data.csv'"
     ]
    }
   ],
   "source": [
    "# create cleaned dataset\n",
    "create_cleaned_dataset(\n",
    "    PDBbind_dataset_path=\"HAC-Net/input_files/PDBbind_2020_data.csv\",\n",
    "    general_set_PDBs_path=\"PDBbind/general-set/\",\n",
    "    refined_set_PDBs_path=\"PDBbind/refined-set/\",\n",
    "    output_name=\"PDBbind/PDBbind_cleaned_dataset.csv\",\n",
    "    plot=True,\n",
    ")"
   ]
  },
  {
   "cell_type": "markdown",
   "metadata": {},
   "source": [
    "## 2) Add hydrogens to pocket PDB files and convert to mol2 file type, remove TIP3P atoms from mol2 files\n"
   ]
  },
  {
   "cell_type": "code",
   "execution_count": 5,
   "metadata": {},
   "outputs": [],
   "source": [
    "# import packages\n",
    "import pickle\n",
    "\n",
    "import openbabel.pybel\n",
    "from biopandas.mol2 import PandasMol2\n",
    "from biopandas.pdb import PandasPdb\n",
    "from rich.jupyter import print"
   ]
  },
  {
   "cell_type": "code",
   "execution_count": 6,
   "metadata": {},
   "outputs": [],
   "source": [
    "refined_dataset_path = \"PDBbind/refined-set/\""
   ]
  },
  {
   "cell_type": "code",
   "execution_count": 7,
   "metadata": {},
   "outputs": [
    {
     "ename": "FileNotFoundError",
     "evalue": "[Errno 2] No such file or directory: 'PDBbind/refined-set/'",
     "output_type": "error",
     "traceback": [
      "\u001b[0;31m---------------------------------------------------------------------------\u001b[0m",
      "\u001b[0;31mFileNotFoundError\u001b[0m                         Traceback (most recent call last)",
      "Cell \u001b[0;32mIn[7], line 4\u001b[0m\n\u001b[1;32m      1\u001b[0m \u001b[38;5;66;03m# Get all the folders in the refined dataset\u001b[39;00m\n\u001b[1;32m      2\u001b[0m refined_folders \u001b[38;5;241m=\u001b[39m [\n\u001b[1;32m      3\u001b[0m     f\n\u001b[0;32m----> 4\u001b[0m     \u001b[38;5;28;01mfor\u001b[39;00m f \u001b[38;5;129;01min\u001b[39;00m \u001b[43mos\u001b[49m\u001b[38;5;241;43m.\u001b[39;49m\u001b[43mlistdir\u001b[49m\u001b[43m(\u001b[49m\u001b[43mrefined_dataset_path\u001b[49m\u001b[43m)\u001b[49m\n\u001b[1;32m      5\u001b[0m     \u001b[38;5;28;01mif\u001b[39;00m os\u001b[38;5;241m.\u001b[39mpath\u001b[38;5;241m.\u001b[39misdir(os\u001b[38;5;241m.\u001b[39mpath\u001b[38;5;241m.\u001b[39mjoin(refined_dataset_path, f))\n\u001b[1;32m      6\u001b[0m ]\n\u001b[1;32m      7\u001b[0m \u001b[38;5;28mprint\u001b[39m(\u001b[38;5;124mf\u001b[39m\u001b[38;5;124m\"\u001b[39m\u001b[38;5;124mFound \u001b[39m\u001b[38;5;132;01m{\u001b[39;00m\u001b[38;5;28mlen\u001b[39m(refined_folders)\u001b[38;5;132;01m}\u001b[39;00m\u001b[38;5;124m folders in the refined dataset.\u001b[39m\u001b[38;5;124m\"\u001b[39m)\n\u001b[1;32m     10\u001b[0m sample_folder \u001b[38;5;241m=\u001b[39m refined_folders[\u001b[38;5;241m100\u001b[39m]\n",
      "\u001b[0;31mFileNotFoundError\u001b[0m: [Errno 2] No such file or directory: 'PDBbind/refined-set/'"
     ]
    }
   ],
   "source": [
    "# Get all the folders in the refined dataset\n",
    "refined_folders = [\n",
    "    f\n",
    "    for f in os.listdir(refined_dataset_path)\n",
    "    if os.path.isdir(os.path.join(refined_dataset_path, f))\n",
    "]\n",
    "print(f\"Found {len(refined_folders)} folders in the refined dataset.\")\n",
    "\n",
    "\n",
    "sample_folder = refined_folders[100]\n",
    "print(f\"Sample folder: {sample_folder}\")\n",
    "\n",
    "sample_files = os.listdir(os.path.join(refined_dataset_path, sample_folder))\n",
    "print(f\"Sample files: {sample_files}\")"
   ]
  },
  {
   "cell_type": "code",
   "execution_count": null,
   "metadata": {},
   "outputs": [],
   "source": []
  },
  {
   "cell_type": "code",
   "execution_count": 8,
   "metadata": {},
   "outputs": [],
   "source": [
    "sample_protein_pdb = \"1dhj_protein.pdb\"\n",
    "sample_ligand_mol2 = \"1dhj_ligand.mol2\"\n",
    "sample_data_path = \"sample_data\""
   ]
  },
  {
   "cell_type": "markdown",
   "metadata": {},
   "source": [
    "Changes made -\n",
    "\n",
    "- Added error handling for file input operations using try and except blocks. If the protein PDB or ligand MOL2 file cannot be read, an error message is printed, and the function returns None.\n",
    "- Added a distance_threshold parameter with a default value of 8.0 Angstroms. This allows customization of the distance threshold used for determining the pocket residues and heteroatoms.\n",
    "- Added an output_path parameter with a default value of None. If provided, the pocket PDB file will be saved to the specified path. If not provided, the default output file name \"pocket.pdb\" will be used.\n",
    "- Added error handling for saving the pocket PDB file. If the file cannot be saved, an error message is printed.\n",
    "- The function now returns the PandasPdb object (pred_pocket) instead of saving the file directly. This allows the caller to decide whether to save the file or use the object for further processing.\n",
    "- Improved code readability by adding comments and spacing.\n",
    "- Imported the cKDTree class from scipy.spatial for efficient nearest neighbor searches.\n",
    "- Created k-d trees for protein atoms and heteroatoms using their coordinates.\n",
    "- Used query_ball_point method of the k-d trees to find nearby protein atoms and heteroatoms within the specified distance threshold of ligand atoms.\n",
    "- Simplified the extraction of unique pocket residues and heteroatoms using numpy functions and pandas methods.\n",
    "- Filtered protein atoms and heteroatoms based on the pocket residues and heteroatoms using pandas methods\n",
    "- Added a docstring to the extract_pocket function, describing its purpose, parameters, and return value.\n",
    "- Added an include_heteroatoms parameter (default: False) to allow the user to choose whether to include all heteroatoms in the pocket or only water molecules. If set to True, all heteroatoms within the distance threshold will be included in the pocket.\n",
    "- Updated the filtering of protein heteroatoms based on the include_heteroatoms parameter. If include_heteroatoms is True, all nearby heteroatoms are included. - If False (default), only water molecules (residue name \"HOH\") are included.\n",
    "  Added comments throughout the code to explain the purpose and functionality of each section.\n"
   ]
  },
  {
   "cell_type": "code",
   "execution_count": 9,
   "metadata": {},
   "outputs": [],
   "source": [
    "import os\n",
    "\n",
    "from rich.jupyter import print\n",
    "from scipy.spatial import cKDTree\n",
    "\n",
    "\n",
    "def extract_pocket(\n",
    "    protein_pdb,\n",
    "    ligand_mol2,\n",
    "    distance_threshold=8.0,\n",
    "    output_path=None,\n",
    "    include_heteroatoms=False,\n",
    "    verbose=False,\n",
    "):\n",
    "    \"\"\"\n",
    "    Extract the protein pocket residues and heteroatoms within a specified distance of the ligand.\n",
    "\n",
    "    Parameters:\n",
    "    - protein_pdb (str): Path to the protein PDB file.\n",
    "    - ligand_mol2 (str): Path to the ligand MOL2 file.\n",
    "    - distance_threshold (float): Distance threshold (in Angstroms) for determining the pocket (default: 8.0).\n",
    "    - output_path (str): Path to save the pocket PDB file (default: None, saves as 'pocket.pdb' in the current directory).\n",
    "    - include_heteroatoms (bool): Whether to include heteroatoms in the pocket (default: False, includes only water molecules).\n",
    "    - verbose (bool): Whether to print verbose output for each step (default: False).\n",
    "\n",
    "    Returns:\n",
    "    - pred_pocket (PandasPdb): Biopandas PDB object representing the extracted pocket.\n",
    "    \"\"\"\n",
    "    try:\n",
    "        # Read in protein PDB file\n",
    "        protein = PandasPdb().read_pdb(protein_pdb)\n",
    "        if verbose:\n",
    "            print(\"[green]Protein PDB file read successfully:[/green]\", protein_pdb)\n",
    "    except IOError:\n",
    "        print(\"[red]Error: Could not read protein PDB file:[/red]\", protein_pdb)\n",
    "        return None\n",
    "\n",
    "    try:\n",
    "        # Read in ligand MOL2 file\n",
    "        ligand = PandasMol2().read_mol2(ligand_mol2)\n",
    "        if verbose:\n",
    "            print(\"[green]Ligand MOL2 file read successfully:[/green]\", ligand_mol2)\n",
    "    except IOError:\n",
    "        print(\"[red]Error: Could not read ligand MOL2 file:[/red]\", ligand_mol2)\n",
    "        return None\n",
    "\n",
    "    # Define protein atoms dataframe\n",
    "    protein_atom = protein.df[\"ATOM\"]\n",
    "    if verbose:\n",
    "        print(\"[grey]Protein atoms dataframe created.[/grey]\")\n",
    "        print(\"Protein atoms dataframe shape:\", protein_atom.shape)\n",
    "\n",
    "    # Define protein heteroatoms dataframe\n",
    "    protein_hetatm = protein.df[\"HETATM\"]\n",
    "    if verbose:\n",
    "        print(\"[grey]Protein heteroatoms dataframe created.[/grey]\")\n",
    "        print(\"Protein heteroatoms dataframe shape:\", protein_hetatm.shape)\n",
    "\n",
    "    # Define ligand non-H atoms dataframe\n",
    "    ligand_nonh = ligand.df[ligand.df[\"atom_type\"] != \"H\"]\n",
    "    if verbose:\n",
    "        print(\"[grey]Ligand non-H atoms dataframe created.[/grey]\")\n",
    "        print(\"Ligand non-H atoms dataframe shape:\", ligand_nonh.shape)\n",
    "\n",
    "    # Create k-d trees for protein atoms and heteroatoms\n",
    "    protein_atom_tree = cKDTree(protein_atom[[\"x_coord\", \"y_coord\", \"z_coord\"]].values)\n",
    "    protein_hetatm_tree = cKDTree(\n",
    "        protein_hetatm[[\"x_coord\", \"y_coord\", \"z_coord\"]].values\n",
    "    )\n",
    "    if verbose:\n",
    "        print(\"[grey]K-d trees created for protein atoms and heteroatoms.[/grey]\")\n",
    "\n",
    "    # Find protein atoms within the distance threshold of ligand atoms\n",
    "    ligand_coords = ligand_nonh[[\"x\", \"y\", \"z\"]].values\n",
    "    nearby_atom_indices = protein_atom_tree.query_ball_point(\n",
    "        ligand_coords, r=distance_threshold\n",
    "    )\n",
    "    if verbose:\n",
    "        print(\n",
    "            \"[grey]Nearby protein atoms within[/grey]\",\n",
    "            distance_threshold,\n",
    "            \"[grey]Angstroms of ligand atoms found.[/grey]\",\n",
    "        )\n",
    "        print(\"Number of nearby protein atoms:\", len(nearby_atom_indices))\n",
    "\n",
    "    # Find protein heteroatoms within the distance threshold of ligand atoms\n",
    "    nearby_hetatm_indices = protein_hetatm_tree.query_ball_point(\n",
    "        ligand_coords, r=distance_threshold\n",
    "    )\n",
    "    if verbose:\n",
    "        print(\n",
    "            \"[grey]Nearby protein heteroatoms within[/grey]\",\n",
    "            distance_threshold,\n",
    "            \"[grey]Angstroms of ligand atoms found.[/grey]\",\n",
    "        )\n",
    "        print(\"Number of nearby protein heteroatoms:\", len(nearby_hetatm_indices))\n",
    "\n",
    "    # Get unique residues from nearby protein atoms\n",
    "    pocket_residues = (\n",
    "        protein_atom.iloc[np.unique(np.concatenate(nearby_atom_indices))][\n",
    "            [\"chain_id\", \"residue_number\", \"insertion\"]\n",
    "        ]\n",
    "        .apply(lambda x: \"_\".join(x.astype(str)), axis=1)\n",
    "        .unique()\n",
    "    )\n",
    "    if verbose:\n",
    "        print(\"[grey]Unique pocket residues extracted.[/grey]\")\n",
    "        print(\"Number of unique pocket residues:\", len(pocket_residues))\n",
    "\n",
    "    # Get unique heteroatoms from nearby protein heteroatoms\n",
    "    pocket_heteroatoms = protein_hetatm.iloc[\n",
    "        np.unique(np.concatenate(nearby_hetatm_indices))\n",
    "    ][\"residue_number\"].unique()\n",
    "    if verbose:\n",
    "        print(\"[grey]Unique pocket heteroatoms extracted.[/grey]\")\n",
    "        print(\"Number of unique pocket heteroatoms:\", len(pocket_heteroatoms))\n",
    "\n",
    "    # Filter protein atoms by pocket residues\n",
    "    pocket_atoms = protein_atom[\n",
    "        protein_atom.apply(\n",
    "            lambda x: \"_\".join(\n",
    "                [str(x[\"chain_id\"]), str(x[\"residue_number\"]), str(x[\"insertion\"])]\n",
    "            ),\n",
    "            axis=1,\n",
    "        ).isin(pocket_residues)\n",
    "    ]\n",
    "    if verbose:\n",
    "        print(\"[grey]Protein atoms filtered by pocket residues.[/grey]\")\n",
    "        print(\"Number of pocket atoms:\", pocket_atoms.shape[0])\n",
    "\n",
    "    # Filter protein heteroatoms by pocket heteroatoms\n",
    "    if include_heteroatoms:\n",
    "        pocket_hetatms = protein_hetatm[\n",
    "            protein_hetatm[\"residue_number\"].isin(pocket_heteroatoms)\n",
    "        ]\n",
    "        if verbose:\n",
    "            print(\"[grey]All heteroatoms included in the pocket.[/grey]\")\n",
    "            print(\"Number of pocket heteroatoms:\", pocket_hetatms.shape[0])\n",
    "    else:\n",
    "        pocket_hetatms = protein_hetatm[\n",
    "            (protein_hetatm[\"residue_number\"].isin(pocket_heteroatoms))\n",
    "            & (protein_hetatm[\"residue_name\"] == \"HOH\")\n",
    "        ]\n",
    "        if verbose:\n",
    "            print(\"[grey]Only water molecules included in the pocket.[/grey]\")\n",
    "            print(\"Number of pocket water molecules:\", pocket_hetatms.shape[0])\n",
    "\n",
    "    # Initialize biopandas object to write out pocket PDB file\n",
    "    pred_pocket = PandasPdb()\n",
    "    if verbose:\n",
    "        print(\"[grey]Biopandas PDB object initialized.[/grey]\")\n",
    "\n",
    "    # Define the atoms and heteroatoms of the object\n",
    "    pred_pocket.df[\"ATOM\"], pred_pocket.df[\"HETATM\"] = pocket_atoms, pocket_hetatms\n",
    "    if verbose:\n",
    "        print(\"[grey]Pocket atoms and heteroatoms assigned to the PDB object.[/grey]\")\n",
    "\n",
    "    # Save the created object to a PDB file\n",
    "    if output_path is None:\n",
    "        output_path = \"pocket.pdb\"\n",
    "    else:\n",
    "        output_path = os.path.join(output_path, \"pocket.pdb\")\n",
    "\n",
    "    try:\n",
    "        pred_pocket.to_pdb(output_path)\n",
    "        print(\"[green]Pocket PDB file saved as:[/green]\", output_path)\n",
    "    except IOError:\n",
    "        print(\"[red]Error: Could not save pocket PDB file:[/red]\", output_path)\n",
    "\n",
    "    return pred_pocket"
   ]
  },
  {
   "cell_type": "code",
   "execution_count": 10,
   "metadata": {},
   "outputs": [
    {
     "data": {
      "text/html": [
       "<pre style=\"white-space:pre;overflow-x:auto;line-height:normal;font-family:Menlo,'DejaVu Sans Mono',consolas,'Courier New',monospace\"><span style=\"color: #008000; text-decoration-color: #008000\">Protein PDB file read successfully:</span> sample_data/1dhj_protein.pdb\n",
       "</pre>\n"
      ],
      "text/plain": [
       "\u001b[32mProtein PDB file read successfully:\u001b[0m sample_data/1dhj_protein.pdb\n"
      ]
     },
     "metadata": {},
     "output_type": "display_data"
    },
    {
     "data": {
      "text/html": [
       "<pre style=\"white-space:pre;overflow-x:auto;line-height:normal;font-family:Menlo,'DejaVu Sans Mono',consolas,'Courier New',monospace\"><span style=\"color: #008000; text-decoration-color: #008000\">Ligand MOL2 file read successfully:</span> sample_data/1dhj_ligand.mol2\n",
       "</pre>\n"
      ],
      "text/plain": [
       "\u001b[32mLigand MOL2 file read successfully:\u001b[0m sample_data/1dhj_ligand.mol2\n"
      ]
     },
     "metadata": {},
     "output_type": "display_data"
    },
    {
     "data": {
      "text/html": [
       "<pre style=\"white-space:pre;overflow-x:auto;line-height:normal;font-family:Menlo,'DejaVu Sans Mono',consolas,'Courier New',monospace\">Protein atoms dataframe created.\n",
       "</pre>\n"
      ],
      "text/plain": [
       "Protein atoms dataframe created.\n"
      ]
     },
     "metadata": {},
     "output_type": "display_data"
    },
    {
     "data": {
      "text/html": [
       "<pre style=\"white-space:pre;overflow-x:auto;line-height:normal;font-family:Menlo,'DejaVu Sans Mono',consolas,'Courier New',monospace\">Protein atoms dataframe shape:\n",
       "<span style=\"font-weight: bold\">(</span><span style=\"color: #008080; text-decoration-color: #008080; font-weight: bold\">4889</span>, <span style=\"color: #008080; text-decoration-color: #008080; font-weight: bold\">21</span><span style=\"font-weight: bold\">)</span>\n",
       "</pre>\n"
      ],
      "text/plain": [
       "Protein atoms dataframe shape:\n",
       "\u001b[1m(\u001b[0m\u001b[1;36m4889\u001b[0m, \u001b[1;36m21\u001b[0m\u001b[1m)\u001b[0m\n"
      ]
     },
     "metadata": {},
     "output_type": "display_data"
    },
    {
     "data": {
      "text/html": [
       "<pre style=\"white-space:pre;overflow-x:auto;line-height:normal;font-family:Menlo,'DejaVu Sans Mono',consolas,'Courier New',monospace\">Protein heteroatoms dataframe created.\n",
       "</pre>\n"
      ],
      "text/plain": [
       "Protein heteroatoms dataframe created.\n"
      ]
     },
     "metadata": {},
     "output_type": "display_data"
    },
    {
     "data": {
      "text/html": [
       "<pre style=\"white-space:pre;overflow-x:auto;line-height:normal;font-family:Menlo,'DejaVu Sans Mono',consolas,'Courier New',monospace\">Protein heteroatoms dataframe shape:\n",
       "<span style=\"font-weight: bold\">(</span><span style=\"color: #008080; text-decoration-color: #008080; font-weight: bold\">405</span>, <span style=\"color: #008080; text-decoration-color: #008080; font-weight: bold\">21</span><span style=\"font-weight: bold\">)</span>\n",
       "</pre>\n"
      ],
      "text/plain": [
       "Protein heteroatoms dataframe shape:\n",
       "\u001b[1m(\u001b[0m\u001b[1;36m405\u001b[0m, \u001b[1;36m21\u001b[0m\u001b[1m)\u001b[0m\n"
      ]
     },
     "metadata": {},
     "output_type": "display_data"
    },
    {
     "data": {
      "text/html": [
       "<pre style=\"white-space:pre;overflow-x:auto;line-height:normal;font-family:Menlo,'DejaVu Sans Mono',consolas,'Courier New',monospace\">Ligand non-H atoms dataframe created.\n",
       "</pre>\n"
      ],
      "text/plain": [
       "Ligand non-H atoms dataframe created.\n"
      ]
     },
     "metadata": {},
     "output_type": "display_data"
    },
    {
     "data": {
      "text/html": [
       "<pre style=\"white-space:pre;overflow-x:auto;line-height:normal;font-family:Menlo,'DejaVu Sans Mono',consolas,'Courier New',monospace\">Ligand non-H atoms dataframe shape:\n",
       "<span style=\"font-weight: bold\">(</span><span style=\"color: #008080; text-decoration-color: #008080; font-weight: bold\">33</span>, <span style=\"color: #008080; text-decoration-color: #008080; font-weight: bold\">9</span><span style=\"font-weight: bold\">)</span>\n",
       "</pre>\n"
      ],
      "text/plain": [
       "Ligand non-H atoms dataframe shape:\n",
       "\u001b[1m(\u001b[0m\u001b[1;36m33\u001b[0m, \u001b[1;36m9\u001b[0m\u001b[1m)\u001b[0m\n"
      ]
     },
     "metadata": {},
     "output_type": "display_data"
    },
    {
     "data": {
      "text/html": [
       "<pre style=\"white-space:pre;overflow-x:auto;line-height:normal;font-family:Menlo,'DejaVu Sans Mono',consolas,'Courier New',monospace\">K-d trees created for protein atoms and heteroatoms.\n",
       "</pre>\n"
      ],
      "text/plain": [
       "K-d trees created for protein atoms and heteroatoms.\n"
      ]
     },
     "metadata": {},
     "output_type": "display_data"
    },
    {
     "data": {
      "text/html": [
       "<pre style=\"white-space:pre;overflow-x:auto;line-height:normal;font-family:Menlo,'DejaVu Sans Mono',consolas,'Courier New',monospace\">Nearby protein atoms within <span style=\"color: #008080; text-decoration-color: #008080; font-weight: bold\">8.0</span> Angstroms of ligand atoms found.\n",
       "</pre>\n"
      ],
      "text/plain": [
       "Nearby protein atoms within \u001b[1;36m8.0\u001b[0m Angstroms of ligand atoms found.\n"
      ]
     },
     "metadata": {},
     "output_type": "display_data"
    },
    {
     "data": {
      "text/html": [
       "<pre style=\"white-space:pre;overflow-x:auto;line-height:normal;font-family:Menlo,'DejaVu Sans Mono',consolas,'Courier New',monospace\">Number of nearby protein atoms: <span style=\"color: #008080; text-decoration-color: #008080; font-weight: bold\">33</span>\n",
       "</pre>\n"
      ],
      "text/plain": [
       "Number of nearby protein atoms: \u001b[1;36m33\u001b[0m\n"
      ]
     },
     "metadata": {},
     "output_type": "display_data"
    },
    {
     "data": {
      "text/html": [
       "<pre style=\"white-space:pre;overflow-x:auto;line-height:normal;font-family:Menlo,'DejaVu Sans Mono',consolas,'Courier New',monospace\">Nearby protein heteroatoms within <span style=\"color: #008080; text-decoration-color: #008080; font-weight: bold\">8.0</span> Angstroms of ligand atoms found.\n",
       "</pre>\n"
      ],
      "text/plain": [
       "Nearby protein heteroatoms within \u001b[1;36m8.0\u001b[0m Angstroms of ligand atoms found.\n"
      ]
     },
     "metadata": {},
     "output_type": "display_data"
    },
    {
     "data": {
      "text/html": [
       "<pre style=\"white-space:pre;overflow-x:auto;line-height:normal;font-family:Menlo,'DejaVu Sans Mono',consolas,'Courier New',monospace\">Number of nearby protein heteroatoms: <span style=\"color: #008080; text-decoration-color: #008080; font-weight: bold\">33</span>\n",
       "</pre>\n"
      ],
      "text/plain": [
       "Number of nearby protein heteroatoms: \u001b[1;36m33\u001b[0m\n"
      ]
     },
     "metadata": {},
     "output_type": "display_data"
    },
    {
     "data": {
      "text/html": [
       "<pre style=\"white-space:pre;overflow-x:auto;line-height:normal;font-family:Menlo,'DejaVu Sans Mono',consolas,'Courier New',monospace\">Unique pocket residues extracted.\n",
       "</pre>\n"
      ],
      "text/plain": [
       "Unique pocket residues extracted.\n"
      ]
     },
     "metadata": {},
     "output_type": "display_data"
    },
    {
     "data": {
      "text/html": [
       "<pre style=\"white-space:pre;overflow-x:auto;line-height:normal;font-family:Menlo,'DejaVu Sans Mono',consolas,'Courier New',monospace\">Number of unique pocket residues: <span style=\"color: #008080; text-decoration-color: #008080; font-weight: bold\">54</span>\n",
       "</pre>\n"
      ],
      "text/plain": [
       "Number of unique pocket residues: \u001b[1;36m54\u001b[0m\n"
      ]
     },
     "metadata": {},
     "output_type": "display_data"
    },
    {
     "data": {
      "text/html": [
       "<pre style=\"white-space:pre;overflow-x:auto;line-height:normal;font-family:Menlo,'DejaVu Sans Mono',consolas,'Courier New',monospace\">Unique pocket heteroatoms extracted.\n",
       "</pre>\n"
      ],
      "text/plain": [
       "Unique pocket heteroatoms extracted.\n"
      ]
     },
     "metadata": {},
     "output_type": "display_data"
    },
    {
     "data": {
      "text/html": [
       "<pre style=\"white-space:pre;overflow-x:auto;line-height:normal;font-family:Menlo,'DejaVu Sans Mono',consolas,'Courier New',monospace\">Number of unique pocket heteroatoms: <span style=\"color: #008080; text-decoration-color: #008080; font-weight: bold\">32</span>\n",
       "</pre>\n"
      ],
      "text/plain": [
       "Number of unique pocket heteroatoms: \u001b[1;36m32\u001b[0m\n"
      ]
     },
     "metadata": {},
     "output_type": "display_data"
    },
    {
     "data": {
      "text/html": [
       "<pre style=\"white-space:pre;overflow-x:auto;line-height:normal;font-family:Menlo,'DejaVu Sans Mono',consolas,'Courier New',monospace\">Protein atoms filtered by pocket residues.\n",
       "</pre>\n"
      ],
      "text/plain": [
       "Protein atoms filtered by pocket residues.\n"
      ]
     },
     "metadata": {},
     "output_type": "display_data"
    },
    {
     "data": {
      "text/html": [
       "<pre style=\"white-space:pre;overflow-x:auto;line-height:normal;font-family:Menlo,'DejaVu Sans Mono',consolas,'Courier New',monospace\">Number of pocket atoms: <span style=\"color: #008080; text-decoration-color: #008080; font-weight: bold\">889</span>\n",
       "</pre>\n"
      ],
      "text/plain": [
       "Number of pocket atoms: \u001b[1;36m889\u001b[0m\n"
      ]
     },
     "metadata": {},
     "output_type": "display_data"
    },
    {
     "data": {
      "text/html": [
       "<pre style=\"white-space:pre;overflow-x:auto;line-height:normal;font-family:Menlo,'DejaVu Sans Mono',consolas,'Courier New',monospace\">Only water molecules included in the pocket.\n",
       "</pre>\n"
      ],
      "text/plain": [
       "Only water molecules included in the pocket.\n"
      ]
     },
     "metadata": {},
     "output_type": "display_data"
    },
    {
     "data": {
      "text/html": [
       "<pre style=\"white-space:pre;overflow-x:auto;line-height:normal;font-family:Menlo,'DejaVu Sans Mono',consolas,'Courier New',monospace\">Number of pocket water molecules: <span style=\"color: #008080; text-decoration-color: #008080; font-weight: bold\">32</span>\n",
       "</pre>\n"
      ],
      "text/plain": [
       "Number of pocket water molecules: \u001b[1;36m32\u001b[0m\n"
      ]
     },
     "metadata": {},
     "output_type": "display_data"
    },
    {
     "data": {
      "text/html": [
       "<pre style=\"white-space:pre;overflow-x:auto;line-height:normal;font-family:Menlo,'DejaVu Sans Mono',consolas,'Courier New',monospace\">Biopandas PDB object initialized.\n",
       "</pre>\n"
      ],
      "text/plain": [
       "Biopandas PDB object initialized.\n"
      ]
     },
     "metadata": {},
     "output_type": "display_data"
    },
    {
     "data": {
      "text/html": [
       "<pre style=\"white-space:pre;overflow-x:auto;line-height:normal;font-family:Menlo,'DejaVu Sans Mono',consolas,'Courier New',monospace\">Pocket atoms and heteroatoms assigned to the PDB object.\n",
       "</pre>\n"
      ],
      "text/plain": [
       "Pocket atoms and heteroatoms assigned to the PDB object.\n"
      ]
     },
     "metadata": {},
     "output_type": "display_data"
    },
    {
     "data": {
      "text/html": [
       "<pre style=\"white-space:pre;overflow-x:auto;line-height:normal;font-family:Menlo,'DejaVu Sans Mono',consolas,'Courier New',monospace\"><span style=\"color: #008000; text-decoration-color: #008000\">Pocket PDB file saved as:</span> sample_data/pocket.pdb\n",
       "</pre>\n"
      ],
      "text/plain": [
       "\u001b[32mPocket PDB file saved as:\u001b[0m sample_data/pocket.pdb\n"
      ]
     },
     "metadata": {},
     "output_type": "display_data"
    },
    {
     "data": {
      "text/plain": [
       "<biopandas.pdb.pandas_pdb.PandasPdb at 0x1420035e0>"
      ]
     },
     "execution_count": 10,
     "metadata": {},
     "output_type": "execute_result"
    }
   ],
   "source": [
    "# Extract the pocket for the sample protein-ligand pair\n",
    "extract_pocket(\n",
    "    protein_pdb=os.path.join(\"sample_data\", sample_protein_pdb),\n",
    "    ligand_mol2=os.path.join(\"sample_data\", sample_ligand_mol2),\n",
    "    distance_threshold=8.0,\n",
    "    output_path=sample_data_path,\n",
    "    include_heteroatoms=False,\n",
    "    verbose=True,\n",
    ")"
   ]
  },
  {
   "cell_type": "code",
   "execution_count": 11,
   "metadata": {},
   "outputs": [
    {
     "name": "stdout",
     "output_type": "stream",
     "text": [
      "Requirement already satisfied: requests in /Users/marvinprakash/miniforge3/envs/bio/lib/python3.10/site-packages (2.31.0)\n",
      "Requirement already satisfied: charset-normalizer<4,>=2 in /Users/marvinprakash/miniforge3/envs/bio/lib/python3.10/site-packages (from requests) (3.3.2)\n",
      "Requirement already satisfied: idna<4,>=2.5 in /Users/marvinprakash/miniforge3/envs/bio/lib/python3.10/site-packages (from requests) (3.7)\n",
      "Requirement already satisfied: urllib3<3,>=1.21.1 in /Users/marvinprakash/miniforge3/envs/bio/lib/python3.10/site-packages (from requests) (2.2.1)\n",
      "Requirement already satisfied: certifi>=2017.4.17 in /Users/marvinprakash/miniforge3/envs/bio/lib/python3.10/site-packages (from requests) (2024.2.2)\n",
      "Note: you may need to restart the kernel to use updated packages.\n"
     ]
    }
   ],
   "source": [
    "%pip install requests"
   ]
  },
  {
   "cell_type": "code",
   "execution_count": 12,
   "metadata": {
    "metadata": {}
   },
   "outputs": [],
   "source": [
    "import os\n",
    "\n",
    "# import requests module\n",
    "import requests\n",
    "from pymol import cmd"
   ]
  },
  {
   "cell_type": "code",
   "execution_count": 13,
   "metadata": {
    "metadata": {}
   },
   "outputs": [],
   "source": [
    "# initialize a pymol state by first deleting everything\n",
    "cmd.delete(\"all\")\n",
    "\n",
    "# load in the created pocket pdb file\n",
    "cmd.load(\"sample_data/pocket.pdb\")\n",
    "\n",
    "# add hydrogens to the water molecules\n",
    "cmd.h_add(\"sol\")\n",
    "\n",
    "# save the state as a mol2 file\n",
    "cmd.save(\"sample_data/pocket.mol2\")"
   ]
  },
  {
   "cell_type": "code",
   "execution_count": 14,
   "metadata": {
    "metadata": {}
   },
   "outputs": [],
   "source": [
    "def add_mol2_charges(pocket_mol2):\n",
    "    # upload the pocket mol2 file to the ACC2 API\n",
    "    r = requests.post(\n",
    "        \"http://78.128.250.156/send_files\",\n",
    "        files={\"file[]\": open(pocket_mol2, \"rb\")},\n",
    "    )\n",
    "\n",
    "    # obtain ID number for uploaded file\n",
    "    r_id = list(r.json()[\"structure_ids\"].values())[0]\n",
    "\n",
    "    # calculate charges using eqeq method\n",
    "    r_out = requests.get(\n",
    "        \"http://78.128.250.156/calculate_charges?structure_id=\"\n",
    "        + r_id\n",
    "        + \"&method=eqeq&generate_mol2=true\"\n",
    "    )\n",
    "\n",
    "    # save output mol2 file\n",
    "    open(\"/content/charged_pocket.mol2\", \"wb\").write(r_out.content)"
   ]
  },
  {
   "cell_type": "code",
   "execution_count": 15,
   "metadata": {
    "metadata": {}
   },
   "outputs": [
    {
     "ename": "ConnectionError",
     "evalue": "HTTPConnectionPool(host='78.128.250.156', port=80): Max retries exceeded with url: /send_files (Caused by NewConnectionError('<urllib3.connection.HTTPConnection object at 0x1431555a0>: Failed to establish a new connection: [Errno 61] Connection refused'))",
     "output_type": "error",
     "traceback": [
      "\u001b[0;31m---------------------------------------------------------------------------\u001b[0m",
      "\u001b[0;31mConnectionRefusedError\u001b[0m                    Traceback (most recent call last)",
      "File \u001b[0;32m~/miniforge3/envs/bio/lib/python3.10/site-packages/urllib3/connection.py:198\u001b[0m, in \u001b[0;36mHTTPConnection._new_conn\u001b[0;34m(self)\u001b[0m\n\u001b[1;32m    197\u001b[0m \u001b[38;5;28;01mtry\u001b[39;00m:\n\u001b[0;32m--> 198\u001b[0m     sock \u001b[38;5;241m=\u001b[39m \u001b[43mconnection\u001b[49m\u001b[38;5;241;43m.\u001b[39;49m\u001b[43mcreate_connection\u001b[49m\u001b[43m(\u001b[49m\n\u001b[1;32m    199\u001b[0m \u001b[43m        \u001b[49m\u001b[43m(\u001b[49m\u001b[38;5;28;43mself\u001b[39;49m\u001b[38;5;241;43m.\u001b[39;49m\u001b[43m_dns_host\u001b[49m\u001b[43m,\u001b[49m\u001b[43m \u001b[49m\u001b[38;5;28;43mself\u001b[39;49m\u001b[38;5;241;43m.\u001b[39;49m\u001b[43mport\u001b[49m\u001b[43m)\u001b[49m\u001b[43m,\u001b[49m\n\u001b[1;32m    200\u001b[0m \u001b[43m        \u001b[49m\u001b[38;5;28;43mself\u001b[39;49m\u001b[38;5;241;43m.\u001b[39;49m\u001b[43mtimeout\u001b[49m\u001b[43m,\u001b[49m\n\u001b[1;32m    201\u001b[0m \u001b[43m        \u001b[49m\u001b[43msource_address\u001b[49m\u001b[38;5;241;43m=\u001b[39;49m\u001b[38;5;28;43mself\u001b[39;49m\u001b[38;5;241;43m.\u001b[39;49m\u001b[43msource_address\u001b[49m\u001b[43m,\u001b[49m\n\u001b[1;32m    202\u001b[0m \u001b[43m        \u001b[49m\u001b[43msocket_options\u001b[49m\u001b[38;5;241;43m=\u001b[39;49m\u001b[38;5;28;43mself\u001b[39;49m\u001b[38;5;241;43m.\u001b[39;49m\u001b[43msocket_options\u001b[49m\u001b[43m,\u001b[49m\n\u001b[1;32m    203\u001b[0m \u001b[43m    \u001b[49m\u001b[43m)\u001b[49m\n\u001b[1;32m    204\u001b[0m \u001b[38;5;28;01mexcept\u001b[39;00m socket\u001b[38;5;241m.\u001b[39mgaierror \u001b[38;5;28;01mas\u001b[39;00m e:\n",
      "File \u001b[0;32m~/miniforge3/envs/bio/lib/python3.10/site-packages/urllib3/util/connection.py:85\u001b[0m, in \u001b[0;36mcreate_connection\u001b[0;34m(address, timeout, source_address, socket_options)\u001b[0m\n\u001b[1;32m     84\u001b[0m \u001b[38;5;28;01mtry\u001b[39;00m:\n\u001b[0;32m---> 85\u001b[0m     \u001b[38;5;28;01mraise\u001b[39;00m err\n\u001b[1;32m     86\u001b[0m \u001b[38;5;28;01mfinally\u001b[39;00m:\n\u001b[1;32m     87\u001b[0m     \u001b[38;5;66;03m# Break explicitly a reference cycle\u001b[39;00m\n",
      "File \u001b[0;32m~/miniforge3/envs/bio/lib/python3.10/site-packages/urllib3/util/connection.py:73\u001b[0m, in \u001b[0;36mcreate_connection\u001b[0;34m(address, timeout, source_address, socket_options)\u001b[0m\n\u001b[1;32m     72\u001b[0m     sock\u001b[38;5;241m.\u001b[39mbind(source_address)\n\u001b[0;32m---> 73\u001b[0m \u001b[43msock\u001b[49m\u001b[38;5;241;43m.\u001b[39;49m\u001b[43mconnect\u001b[49m\u001b[43m(\u001b[49m\u001b[43msa\u001b[49m\u001b[43m)\u001b[49m\n\u001b[1;32m     74\u001b[0m \u001b[38;5;66;03m# Break explicitly a reference cycle\u001b[39;00m\n",
      "\u001b[0;31mConnectionRefusedError\u001b[0m: [Errno 61] Connection refused",
      "\nThe above exception was the direct cause of the following exception:\n",
      "\u001b[0;31mNewConnectionError\u001b[0m                        Traceback (most recent call last)",
      "File \u001b[0;32m~/miniforge3/envs/bio/lib/python3.10/site-packages/urllib3/connectionpool.py:793\u001b[0m, in \u001b[0;36mHTTPConnectionPool.urlopen\u001b[0;34m(self, method, url, body, headers, retries, redirect, assert_same_host, timeout, pool_timeout, release_conn, chunked, body_pos, preload_content, decode_content, **response_kw)\u001b[0m\n\u001b[1;32m    792\u001b[0m \u001b[38;5;66;03m# Make the request on the HTTPConnection object\u001b[39;00m\n\u001b[0;32m--> 793\u001b[0m response \u001b[38;5;241m=\u001b[39m \u001b[38;5;28;43mself\u001b[39;49m\u001b[38;5;241;43m.\u001b[39;49m\u001b[43m_make_request\u001b[49m\u001b[43m(\u001b[49m\n\u001b[1;32m    794\u001b[0m \u001b[43m    \u001b[49m\u001b[43mconn\u001b[49m\u001b[43m,\u001b[49m\n\u001b[1;32m    795\u001b[0m \u001b[43m    \u001b[49m\u001b[43mmethod\u001b[49m\u001b[43m,\u001b[49m\n\u001b[1;32m    796\u001b[0m \u001b[43m    \u001b[49m\u001b[43murl\u001b[49m\u001b[43m,\u001b[49m\n\u001b[1;32m    797\u001b[0m \u001b[43m    \u001b[49m\u001b[43mtimeout\u001b[49m\u001b[38;5;241;43m=\u001b[39;49m\u001b[43mtimeout_obj\u001b[49m\u001b[43m,\u001b[49m\n\u001b[1;32m    798\u001b[0m \u001b[43m    \u001b[49m\u001b[43mbody\u001b[49m\u001b[38;5;241;43m=\u001b[39;49m\u001b[43mbody\u001b[49m\u001b[43m,\u001b[49m\n\u001b[1;32m    799\u001b[0m \u001b[43m    \u001b[49m\u001b[43mheaders\u001b[49m\u001b[38;5;241;43m=\u001b[39;49m\u001b[43mheaders\u001b[49m\u001b[43m,\u001b[49m\n\u001b[1;32m    800\u001b[0m \u001b[43m    \u001b[49m\u001b[43mchunked\u001b[49m\u001b[38;5;241;43m=\u001b[39;49m\u001b[43mchunked\u001b[49m\u001b[43m,\u001b[49m\n\u001b[1;32m    801\u001b[0m \u001b[43m    \u001b[49m\u001b[43mretries\u001b[49m\u001b[38;5;241;43m=\u001b[39;49m\u001b[43mretries\u001b[49m\u001b[43m,\u001b[49m\n\u001b[1;32m    802\u001b[0m \u001b[43m    \u001b[49m\u001b[43mresponse_conn\u001b[49m\u001b[38;5;241;43m=\u001b[39;49m\u001b[43mresponse_conn\u001b[49m\u001b[43m,\u001b[49m\n\u001b[1;32m    803\u001b[0m \u001b[43m    \u001b[49m\u001b[43mpreload_content\u001b[49m\u001b[38;5;241;43m=\u001b[39;49m\u001b[43mpreload_content\u001b[49m\u001b[43m,\u001b[49m\n\u001b[1;32m    804\u001b[0m \u001b[43m    \u001b[49m\u001b[43mdecode_content\u001b[49m\u001b[38;5;241;43m=\u001b[39;49m\u001b[43mdecode_content\u001b[49m\u001b[43m,\u001b[49m\n\u001b[1;32m    805\u001b[0m \u001b[43m    \u001b[49m\u001b[38;5;241;43m*\u001b[39;49m\u001b[38;5;241;43m*\u001b[39;49m\u001b[43mresponse_kw\u001b[49m\u001b[43m,\u001b[49m\n\u001b[1;32m    806\u001b[0m \u001b[43m\u001b[49m\u001b[43m)\u001b[49m\n\u001b[1;32m    808\u001b[0m \u001b[38;5;66;03m# Everything went great!\u001b[39;00m\n",
      "File \u001b[0;32m~/miniforge3/envs/bio/lib/python3.10/site-packages/urllib3/connectionpool.py:496\u001b[0m, in \u001b[0;36mHTTPConnectionPool._make_request\u001b[0;34m(self, conn, method, url, body, headers, retries, timeout, chunked, response_conn, preload_content, decode_content, enforce_content_length)\u001b[0m\n\u001b[1;32m    495\u001b[0m \u001b[38;5;28;01mtry\u001b[39;00m:\n\u001b[0;32m--> 496\u001b[0m     \u001b[43mconn\u001b[49m\u001b[38;5;241;43m.\u001b[39;49m\u001b[43mrequest\u001b[49m\u001b[43m(\u001b[49m\n\u001b[1;32m    497\u001b[0m \u001b[43m        \u001b[49m\u001b[43mmethod\u001b[49m\u001b[43m,\u001b[49m\n\u001b[1;32m    498\u001b[0m \u001b[43m        \u001b[49m\u001b[43murl\u001b[49m\u001b[43m,\u001b[49m\n\u001b[1;32m    499\u001b[0m \u001b[43m        \u001b[49m\u001b[43mbody\u001b[49m\u001b[38;5;241;43m=\u001b[39;49m\u001b[43mbody\u001b[49m\u001b[43m,\u001b[49m\n\u001b[1;32m    500\u001b[0m \u001b[43m        \u001b[49m\u001b[43mheaders\u001b[49m\u001b[38;5;241;43m=\u001b[39;49m\u001b[43mheaders\u001b[49m\u001b[43m,\u001b[49m\n\u001b[1;32m    501\u001b[0m \u001b[43m        \u001b[49m\u001b[43mchunked\u001b[49m\u001b[38;5;241;43m=\u001b[39;49m\u001b[43mchunked\u001b[49m\u001b[43m,\u001b[49m\n\u001b[1;32m    502\u001b[0m \u001b[43m        \u001b[49m\u001b[43mpreload_content\u001b[49m\u001b[38;5;241;43m=\u001b[39;49m\u001b[43mpreload_content\u001b[49m\u001b[43m,\u001b[49m\n\u001b[1;32m    503\u001b[0m \u001b[43m        \u001b[49m\u001b[43mdecode_content\u001b[49m\u001b[38;5;241;43m=\u001b[39;49m\u001b[43mdecode_content\u001b[49m\u001b[43m,\u001b[49m\n\u001b[1;32m    504\u001b[0m \u001b[43m        \u001b[49m\u001b[43menforce_content_length\u001b[49m\u001b[38;5;241;43m=\u001b[39;49m\u001b[43menforce_content_length\u001b[49m\u001b[43m,\u001b[49m\n\u001b[1;32m    505\u001b[0m \u001b[43m    \u001b[49m\u001b[43m)\u001b[49m\n\u001b[1;32m    507\u001b[0m \u001b[38;5;66;03m# We are swallowing BrokenPipeError (errno.EPIPE) since the server is\u001b[39;00m\n\u001b[1;32m    508\u001b[0m \u001b[38;5;66;03m# legitimately able to close the connection after sending a valid response.\u001b[39;00m\n\u001b[1;32m    509\u001b[0m \u001b[38;5;66;03m# With this behaviour, the received response is still readable.\u001b[39;00m\n",
      "File \u001b[0;32m~/miniforge3/envs/bio/lib/python3.10/site-packages/urllib3/connection.py:400\u001b[0m, in \u001b[0;36mHTTPConnection.request\u001b[0;34m(self, method, url, body, headers, chunked, preload_content, decode_content, enforce_content_length)\u001b[0m\n\u001b[1;32m    399\u001b[0m     \u001b[38;5;28mself\u001b[39m\u001b[38;5;241m.\u001b[39mputheader(header, value)\n\u001b[0;32m--> 400\u001b[0m \u001b[38;5;28;43mself\u001b[39;49m\u001b[38;5;241;43m.\u001b[39;49m\u001b[43mendheaders\u001b[49m\u001b[43m(\u001b[49m\u001b[43m)\u001b[49m\n\u001b[1;32m    402\u001b[0m \u001b[38;5;66;03m# If we're given a body we start sending that in chunks.\u001b[39;00m\n",
      "File \u001b[0;32m~/miniforge3/envs/bio/lib/python3.10/http/client.py:1278\u001b[0m, in \u001b[0;36mHTTPConnection.endheaders\u001b[0;34m(self, message_body, encode_chunked)\u001b[0m\n\u001b[1;32m   1277\u001b[0m     \u001b[38;5;28;01mraise\u001b[39;00m CannotSendHeader()\n\u001b[0;32m-> 1278\u001b[0m \u001b[38;5;28;43mself\u001b[39;49m\u001b[38;5;241;43m.\u001b[39;49m\u001b[43m_send_output\u001b[49m\u001b[43m(\u001b[49m\u001b[43mmessage_body\u001b[49m\u001b[43m,\u001b[49m\u001b[43m \u001b[49m\u001b[43mencode_chunked\u001b[49m\u001b[38;5;241;43m=\u001b[39;49m\u001b[43mencode_chunked\u001b[49m\u001b[43m)\u001b[49m\n",
      "File \u001b[0;32m~/miniforge3/envs/bio/lib/python3.10/http/client.py:1038\u001b[0m, in \u001b[0;36mHTTPConnection._send_output\u001b[0;34m(self, message_body, encode_chunked)\u001b[0m\n\u001b[1;32m   1037\u001b[0m \u001b[38;5;28;01mdel\u001b[39;00m \u001b[38;5;28mself\u001b[39m\u001b[38;5;241m.\u001b[39m_buffer[:]\n\u001b[0;32m-> 1038\u001b[0m \u001b[38;5;28;43mself\u001b[39;49m\u001b[38;5;241;43m.\u001b[39;49m\u001b[43msend\u001b[49m\u001b[43m(\u001b[49m\u001b[43mmsg\u001b[49m\u001b[43m)\u001b[49m\n\u001b[1;32m   1040\u001b[0m \u001b[38;5;28;01mif\u001b[39;00m message_body \u001b[38;5;129;01mis\u001b[39;00m \u001b[38;5;129;01mnot\u001b[39;00m \u001b[38;5;28;01mNone\u001b[39;00m:\n\u001b[1;32m   1041\u001b[0m \n\u001b[1;32m   1042\u001b[0m     \u001b[38;5;66;03m# create a consistent interface to message_body\u001b[39;00m\n",
      "File \u001b[0;32m~/miniforge3/envs/bio/lib/python3.10/http/client.py:976\u001b[0m, in \u001b[0;36mHTTPConnection.send\u001b[0;34m(self, data)\u001b[0m\n\u001b[1;32m    975\u001b[0m \u001b[38;5;28;01mif\u001b[39;00m \u001b[38;5;28mself\u001b[39m\u001b[38;5;241m.\u001b[39mauto_open:\n\u001b[0;32m--> 976\u001b[0m     \u001b[38;5;28;43mself\u001b[39;49m\u001b[38;5;241;43m.\u001b[39;49m\u001b[43mconnect\u001b[49m\u001b[43m(\u001b[49m\u001b[43m)\u001b[49m\n\u001b[1;32m    977\u001b[0m \u001b[38;5;28;01melse\u001b[39;00m:\n",
      "File \u001b[0;32m~/miniforge3/envs/bio/lib/python3.10/site-packages/urllib3/connection.py:238\u001b[0m, in \u001b[0;36mHTTPConnection.connect\u001b[0;34m(self)\u001b[0m\n\u001b[1;32m    237\u001b[0m \u001b[38;5;28;01mdef\u001b[39;00m \u001b[38;5;21mconnect\u001b[39m(\u001b[38;5;28mself\u001b[39m) \u001b[38;5;241m-\u001b[39m\u001b[38;5;241m>\u001b[39m \u001b[38;5;28;01mNone\u001b[39;00m:\n\u001b[0;32m--> 238\u001b[0m     \u001b[38;5;28mself\u001b[39m\u001b[38;5;241m.\u001b[39msock \u001b[38;5;241m=\u001b[39m \u001b[38;5;28;43mself\u001b[39;49m\u001b[38;5;241;43m.\u001b[39;49m\u001b[43m_new_conn\u001b[49m\u001b[43m(\u001b[49m\u001b[43m)\u001b[49m\n\u001b[1;32m    239\u001b[0m     \u001b[38;5;28;01mif\u001b[39;00m \u001b[38;5;28mself\u001b[39m\u001b[38;5;241m.\u001b[39m_tunnel_host:\n\u001b[1;32m    240\u001b[0m         \u001b[38;5;66;03m# If we're tunneling it means we're connected to our proxy.\u001b[39;00m\n",
      "File \u001b[0;32m~/miniforge3/envs/bio/lib/python3.10/site-packages/urllib3/connection.py:213\u001b[0m, in \u001b[0;36mHTTPConnection._new_conn\u001b[0;34m(self)\u001b[0m\n\u001b[1;32m    212\u001b[0m \u001b[38;5;28;01mexcept\u001b[39;00m \u001b[38;5;167;01mOSError\u001b[39;00m \u001b[38;5;28;01mas\u001b[39;00m e:\n\u001b[0;32m--> 213\u001b[0m     \u001b[38;5;28;01mraise\u001b[39;00m NewConnectionError(\n\u001b[1;32m    214\u001b[0m         \u001b[38;5;28mself\u001b[39m, \u001b[38;5;124mf\u001b[39m\u001b[38;5;124m\"\u001b[39m\u001b[38;5;124mFailed to establish a new connection: \u001b[39m\u001b[38;5;132;01m{\u001b[39;00me\u001b[38;5;132;01m}\u001b[39;00m\u001b[38;5;124m\"\u001b[39m\n\u001b[1;32m    215\u001b[0m     ) \u001b[38;5;28;01mfrom\u001b[39;00m \u001b[38;5;21;01me\u001b[39;00m\n\u001b[1;32m    217\u001b[0m \u001b[38;5;66;03m# Audit hooks are only available in Python 3.8+\u001b[39;00m\n",
      "\u001b[0;31mNewConnectionError\u001b[0m: <urllib3.connection.HTTPConnection object at 0x1431555a0>: Failed to establish a new connection: [Errno 61] Connection refused",
      "\nThe above exception was the direct cause of the following exception:\n",
      "\u001b[0;31mMaxRetryError\u001b[0m                             Traceback (most recent call last)",
      "File \u001b[0;32m~/miniforge3/envs/bio/lib/python3.10/site-packages/requests/adapters.py:486\u001b[0m, in \u001b[0;36mHTTPAdapter.send\u001b[0;34m(self, request, stream, timeout, verify, cert, proxies)\u001b[0m\n\u001b[1;32m    485\u001b[0m \u001b[38;5;28;01mtry\u001b[39;00m:\n\u001b[0;32m--> 486\u001b[0m     resp \u001b[38;5;241m=\u001b[39m \u001b[43mconn\u001b[49m\u001b[38;5;241;43m.\u001b[39;49m\u001b[43murlopen\u001b[49m\u001b[43m(\u001b[49m\n\u001b[1;32m    487\u001b[0m \u001b[43m        \u001b[49m\u001b[43mmethod\u001b[49m\u001b[38;5;241;43m=\u001b[39;49m\u001b[43mrequest\u001b[49m\u001b[38;5;241;43m.\u001b[39;49m\u001b[43mmethod\u001b[49m\u001b[43m,\u001b[49m\n\u001b[1;32m    488\u001b[0m \u001b[43m        \u001b[49m\u001b[43murl\u001b[49m\u001b[38;5;241;43m=\u001b[39;49m\u001b[43murl\u001b[49m\u001b[43m,\u001b[49m\n\u001b[1;32m    489\u001b[0m \u001b[43m        \u001b[49m\u001b[43mbody\u001b[49m\u001b[38;5;241;43m=\u001b[39;49m\u001b[43mrequest\u001b[49m\u001b[38;5;241;43m.\u001b[39;49m\u001b[43mbody\u001b[49m\u001b[43m,\u001b[49m\n\u001b[1;32m    490\u001b[0m \u001b[43m        \u001b[49m\u001b[43mheaders\u001b[49m\u001b[38;5;241;43m=\u001b[39;49m\u001b[43mrequest\u001b[49m\u001b[38;5;241;43m.\u001b[39;49m\u001b[43mheaders\u001b[49m\u001b[43m,\u001b[49m\n\u001b[1;32m    491\u001b[0m \u001b[43m        \u001b[49m\u001b[43mredirect\u001b[49m\u001b[38;5;241;43m=\u001b[39;49m\u001b[38;5;28;43;01mFalse\u001b[39;49;00m\u001b[43m,\u001b[49m\n\u001b[1;32m    492\u001b[0m \u001b[43m        \u001b[49m\u001b[43massert_same_host\u001b[49m\u001b[38;5;241;43m=\u001b[39;49m\u001b[38;5;28;43;01mFalse\u001b[39;49;00m\u001b[43m,\u001b[49m\n\u001b[1;32m    493\u001b[0m \u001b[43m        \u001b[49m\u001b[43mpreload_content\u001b[49m\u001b[38;5;241;43m=\u001b[39;49m\u001b[38;5;28;43;01mFalse\u001b[39;49;00m\u001b[43m,\u001b[49m\n\u001b[1;32m    494\u001b[0m \u001b[43m        \u001b[49m\u001b[43mdecode_content\u001b[49m\u001b[38;5;241;43m=\u001b[39;49m\u001b[38;5;28;43;01mFalse\u001b[39;49;00m\u001b[43m,\u001b[49m\n\u001b[1;32m    495\u001b[0m \u001b[43m        \u001b[49m\u001b[43mretries\u001b[49m\u001b[38;5;241;43m=\u001b[39;49m\u001b[38;5;28;43mself\u001b[39;49m\u001b[38;5;241;43m.\u001b[39;49m\u001b[43mmax_retries\u001b[49m\u001b[43m,\u001b[49m\n\u001b[1;32m    496\u001b[0m \u001b[43m        \u001b[49m\u001b[43mtimeout\u001b[49m\u001b[38;5;241;43m=\u001b[39;49m\u001b[43mtimeout\u001b[49m\u001b[43m,\u001b[49m\n\u001b[1;32m    497\u001b[0m \u001b[43m        \u001b[49m\u001b[43mchunked\u001b[49m\u001b[38;5;241;43m=\u001b[39;49m\u001b[43mchunked\u001b[49m\u001b[43m,\u001b[49m\n\u001b[1;32m    498\u001b[0m \u001b[43m    \u001b[49m\u001b[43m)\u001b[49m\n\u001b[1;32m    500\u001b[0m \u001b[38;5;28;01mexcept\u001b[39;00m (ProtocolError, \u001b[38;5;167;01mOSError\u001b[39;00m) \u001b[38;5;28;01mas\u001b[39;00m err:\n",
      "File \u001b[0;32m~/miniforge3/envs/bio/lib/python3.10/site-packages/urllib3/connectionpool.py:847\u001b[0m, in \u001b[0;36mHTTPConnectionPool.urlopen\u001b[0;34m(self, method, url, body, headers, retries, redirect, assert_same_host, timeout, pool_timeout, release_conn, chunked, body_pos, preload_content, decode_content, **response_kw)\u001b[0m\n\u001b[1;32m    845\u001b[0m     new_e \u001b[38;5;241m=\u001b[39m ProtocolError(\u001b[38;5;124m\"\u001b[39m\u001b[38;5;124mConnection aborted.\u001b[39m\u001b[38;5;124m\"\u001b[39m, new_e)\n\u001b[0;32m--> 847\u001b[0m retries \u001b[38;5;241m=\u001b[39m \u001b[43mretries\u001b[49m\u001b[38;5;241;43m.\u001b[39;49m\u001b[43mincrement\u001b[49m\u001b[43m(\u001b[49m\n\u001b[1;32m    848\u001b[0m \u001b[43m    \u001b[49m\u001b[43mmethod\u001b[49m\u001b[43m,\u001b[49m\u001b[43m \u001b[49m\u001b[43murl\u001b[49m\u001b[43m,\u001b[49m\u001b[43m \u001b[49m\u001b[43merror\u001b[49m\u001b[38;5;241;43m=\u001b[39;49m\u001b[43mnew_e\u001b[49m\u001b[43m,\u001b[49m\u001b[43m \u001b[49m\u001b[43m_pool\u001b[49m\u001b[38;5;241;43m=\u001b[39;49m\u001b[38;5;28;43mself\u001b[39;49m\u001b[43m,\u001b[49m\u001b[43m \u001b[49m\u001b[43m_stacktrace\u001b[49m\u001b[38;5;241;43m=\u001b[39;49m\u001b[43msys\u001b[49m\u001b[38;5;241;43m.\u001b[39;49m\u001b[43mexc_info\u001b[49m\u001b[43m(\u001b[49m\u001b[43m)\u001b[49m\u001b[43m[\u001b[49m\u001b[38;5;241;43m2\u001b[39;49m\u001b[43m]\u001b[49m\n\u001b[1;32m    849\u001b[0m \u001b[43m\u001b[49m\u001b[43m)\u001b[49m\n\u001b[1;32m    850\u001b[0m retries\u001b[38;5;241m.\u001b[39msleep()\n",
      "File \u001b[0;32m~/miniforge3/envs/bio/lib/python3.10/site-packages/urllib3/util/retry.py:515\u001b[0m, in \u001b[0;36mRetry.increment\u001b[0;34m(self, method, url, response, error, _pool, _stacktrace)\u001b[0m\n\u001b[1;32m    514\u001b[0m     reason \u001b[38;5;241m=\u001b[39m error \u001b[38;5;129;01mor\u001b[39;00m ResponseError(cause)\n\u001b[0;32m--> 515\u001b[0m     \u001b[38;5;28;01mraise\u001b[39;00m MaxRetryError(_pool, url, reason) \u001b[38;5;28;01mfrom\u001b[39;00m \u001b[38;5;21;01mreason\u001b[39;00m  \u001b[38;5;66;03m# type: ignore[arg-type]\u001b[39;00m\n\u001b[1;32m    517\u001b[0m log\u001b[38;5;241m.\u001b[39mdebug(\u001b[38;5;124m\"\u001b[39m\u001b[38;5;124mIncremented Retry for (url=\u001b[39m\u001b[38;5;124m'\u001b[39m\u001b[38;5;132;01m%s\u001b[39;00m\u001b[38;5;124m'\u001b[39m\u001b[38;5;124m): \u001b[39m\u001b[38;5;132;01m%r\u001b[39;00m\u001b[38;5;124m\"\u001b[39m, url, new_retry)\n",
      "\u001b[0;31mMaxRetryError\u001b[0m: HTTPConnectionPool(host='78.128.250.156', port=80): Max retries exceeded with url: /send_files (Caused by NewConnectionError('<urllib3.connection.HTTPConnection object at 0x1431555a0>: Failed to establish a new connection: [Errno 61] Connection refused'))",
      "\nDuring handling of the above exception, another exception occurred:\n",
      "\u001b[0;31mConnectionError\u001b[0m                           Traceback (most recent call last)",
      "Cell \u001b[0;32mIn[15], line 1\u001b[0m\n\u001b[0;32m----> 1\u001b[0m \u001b[43madd_mol2_charges\u001b[49m\u001b[43m(\u001b[49m\u001b[38;5;124;43m\"\u001b[39;49m\u001b[38;5;124;43msample_data/pocket.mol2\u001b[39;49m\u001b[38;5;124;43m\"\u001b[39;49m\u001b[43m)\u001b[49m\n",
      "Cell \u001b[0;32mIn[14], line 3\u001b[0m, in \u001b[0;36madd_mol2_charges\u001b[0;34m(pocket_mol2)\u001b[0m\n\u001b[1;32m      1\u001b[0m \u001b[38;5;28;01mdef\u001b[39;00m \u001b[38;5;21madd_mol2_charges\u001b[39m(pocket_mol2):\n\u001b[1;32m      2\u001b[0m     \u001b[38;5;66;03m# upload the pocket mol2 file to the ACC2 API\u001b[39;00m\n\u001b[0;32m----> 3\u001b[0m     r \u001b[38;5;241m=\u001b[39m \u001b[43mrequests\u001b[49m\u001b[38;5;241;43m.\u001b[39;49m\u001b[43mpost\u001b[49m\u001b[43m(\u001b[49m\n\u001b[1;32m      4\u001b[0m \u001b[43m        \u001b[49m\u001b[38;5;124;43m\"\u001b[39;49m\u001b[38;5;124;43mhttp://78.128.250.156/send_files\u001b[39;49m\u001b[38;5;124;43m\"\u001b[39;49m\u001b[43m,\u001b[49m\n\u001b[1;32m      5\u001b[0m \u001b[43m        \u001b[49m\u001b[43mfiles\u001b[49m\u001b[38;5;241;43m=\u001b[39;49m\u001b[43m{\u001b[49m\u001b[38;5;124;43m\"\u001b[39;49m\u001b[38;5;124;43mfile[]\u001b[39;49m\u001b[38;5;124;43m\"\u001b[39;49m\u001b[43m:\u001b[49m\u001b[43m \u001b[49m\u001b[38;5;28;43mopen\u001b[39;49m\u001b[43m(\u001b[49m\u001b[43mpocket_mol2\u001b[49m\u001b[43m,\u001b[49m\u001b[43m \u001b[49m\u001b[38;5;124;43m\"\u001b[39;49m\u001b[38;5;124;43mrb\u001b[39;49m\u001b[38;5;124;43m\"\u001b[39;49m\u001b[43m)\u001b[49m\u001b[43m}\u001b[49m\u001b[43m,\u001b[49m\n\u001b[1;32m      6\u001b[0m \u001b[43m    \u001b[49m\u001b[43m)\u001b[49m\n\u001b[1;32m      8\u001b[0m     \u001b[38;5;66;03m# obtain ID number for uploaded file\u001b[39;00m\n\u001b[1;32m      9\u001b[0m     r_id \u001b[38;5;241m=\u001b[39m \u001b[38;5;28mlist\u001b[39m(r\u001b[38;5;241m.\u001b[39mjson()[\u001b[38;5;124m\"\u001b[39m\u001b[38;5;124mstructure_ids\u001b[39m\u001b[38;5;124m\"\u001b[39m]\u001b[38;5;241m.\u001b[39mvalues())[\u001b[38;5;241m0\u001b[39m]\n",
      "File \u001b[0;32m~/miniforge3/envs/bio/lib/python3.10/site-packages/requests/api.py:115\u001b[0m, in \u001b[0;36mpost\u001b[0;34m(url, data, json, **kwargs)\u001b[0m\n\u001b[1;32m    103\u001b[0m \u001b[38;5;28;01mdef\u001b[39;00m \u001b[38;5;21mpost\u001b[39m(url, data\u001b[38;5;241m=\u001b[39m\u001b[38;5;28;01mNone\u001b[39;00m, json\u001b[38;5;241m=\u001b[39m\u001b[38;5;28;01mNone\u001b[39;00m, \u001b[38;5;241m*\u001b[39m\u001b[38;5;241m*\u001b[39mkwargs):\n\u001b[1;32m    104\u001b[0m \u001b[38;5;250m    \u001b[39m\u001b[38;5;124mr\u001b[39m\u001b[38;5;124;03m\"\"\"Sends a POST request.\u001b[39;00m\n\u001b[1;32m    105\u001b[0m \n\u001b[1;32m    106\u001b[0m \u001b[38;5;124;03m    :param url: URL for the new :class:`Request` object.\u001b[39;00m\n\u001b[0;32m   (...)\u001b[0m\n\u001b[1;32m    112\u001b[0m \u001b[38;5;124;03m    :rtype: requests.Response\u001b[39;00m\n\u001b[1;32m    113\u001b[0m \u001b[38;5;124;03m    \"\"\"\u001b[39;00m\n\u001b[0;32m--> 115\u001b[0m     \u001b[38;5;28;01mreturn\u001b[39;00m \u001b[43mrequest\u001b[49m\u001b[43m(\u001b[49m\u001b[38;5;124;43m\"\u001b[39;49m\u001b[38;5;124;43mpost\u001b[39;49m\u001b[38;5;124;43m\"\u001b[39;49m\u001b[43m,\u001b[49m\u001b[43m \u001b[49m\u001b[43murl\u001b[49m\u001b[43m,\u001b[49m\u001b[43m \u001b[49m\u001b[43mdata\u001b[49m\u001b[38;5;241;43m=\u001b[39;49m\u001b[43mdata\u001b[49m\u001b[43m,\u001b[49m\u001b[43m \u001b[49m\u001b[43mjson\u001b[49m\u001b[38;5;241;43m=\u001b[39;49m\u001b[43mjson\u001b[49m\u001b[43m,\u001b[49m\u001b[43m \u001b[49m\u001b[38;5;241;43m*\u001b[39;49m\u001b[38;5;241;43m*\u001b[39;49m\u001b[43mkwargs\u001b[49m\u001b[43m)\u001b[49m\n",
      "File \u001b[0;32m~/miniforge3/envs/bio/lib/python3.10/site-packages/requests/api.py:59\u001b[0m, in \u001b[0;36mrequest\u001b[0;34m(method, url, **kwargs)\u001b[0m\n\u001b[1;32m     55\u001b[0m \u001b[38;5;66;03m# By using the 'with' statement we are sure the session is closed, thus we\u001b[39;00m\n\u001b[1;32m     56\u001b[0m \u001b[38;5;66;03m# avoid leaving sockets open which can trigger a ResourceWarning in some\u001b[39;00m\n\u001b[1;32m     57\u001b[0m \u001b[38;5;66;03m# cases, and look like a memory leak in others.\u001b[39;00m\n\u001b[1;32m     58\u001b[0m \u001b[38;5;28;01mwith\u001b[39;00m sessions\u001b[38;5;241m.\u001b[39mSession() \u001b[38;5;28;01mas\u001b[39;00m session:\n\u001b[0;32m---> 59\u001b[0m     \u001b[38;5;28;01mreturn\u001b[39;00m \u001b[43msession\u001b[49m\u001b[38;5;241;43m.\u001b[39;49m\u001b[43mrequest\u001b[49m\u001b[43m(\u001b[49m\u001b[43mmethod\u001b[49m\u001b[38;5;241;43m=\u001b[39;49m\u001b[43mmethod\u001b[49m\u001b[43m,\u001b[49m\u001b[43m \u001b[49m\u001b[43murl\u001b[49m\u001b[38;5;241;43m=\u001b[39;49m\u001b[43murl\u001b[49m\u001b[43m,\u001b[49m\u001b[43m \u001b[49m\u001b[38;5;241;43m*\u001b[39;49m\u001b[38;5;241;43m*\u001b[39;49m\u001b[43mkwargs\u001b[49m\u001b[43m)\u001b[49m\n",
      "File \u001b[0;32m~/miniforge3/envs/bio/lib/python3.10/site-packages/requests/sessions.py:589\u001b[0m, in \u001b[0;36mSession.request\u001b[0;34m(self, method, url, params, data, headers, cookies, files, auth, timeout, allow_redirects, proxies, hooks, stream, verify, cert, json)\u001b[0m\n\u001b[1;32m    584\u001b[0m send_kwargs \u001b[38;5;241m=\u001b[39m {\n\u001b[1;32m    585\u001b[0m     \u001b[38;5;124m\"\u001b[39m\u001b[38;5;124mtimeout\u001b[39m\u001b[38;5;124m\"\u001b[39m: timeout,\n\u001b[1;32m    586\u001b[0m     \u001b[38;5;124m\"\u001b[39m\u001b[38;5;124mallow_redirects\u001b[39m\u001b[38;5;124m\"\u001b[39m: allow_redirects,\n\u001b[1;32m    587\u001b[0m }\n\u001b[1;32m    588\u001b[0m send_kwargs\u001b[38;5;241m.\u001b[39mupdate(settings)\n\u001b[0;32m--> 589\u001b[0m resp \u001b[38;5;241m=\u001b[39m \u001b[38;5;28;43mself\u001b[39;49m\u001b[38;5;241;43m.\u001b[39;49m\u001b[43msend\u001b[49m\u001b[43m(\u001b[49m\u001b[43mprep\u001b[49m\u001b[43m,\u001b[49m\u001b[43m \u001b[49m\u001b[38;5;241;43m*\u001b[39;49m\u001b[38;5;241;43m*\u001b[39;49m\u001b[43msend_kwargs\u001b[49m\u001b[43m)\u001b[49m\n\u001b[1;32m    591\u001b[0m \u001b[38;5;28;01mreturn\u001b[39;00m resp\n",
      "File \u001b[0;32m~/miniforge3/envs/bio/lib/python3.10/site-packages/requests/sessions.py:703\u001b[0m, in \u001b[0;36mSession.send\u001b[0;34m(self, request, **kwargs)\u001b[0m\n\u001b[1;32m    700\u001b[0m start \u001b[38;5;241m=\u001b[39m preferred_clock()\n\u001b[1;32m    702\u001b[0m \u001b[38;5;66;03m# Send the request\u001b[39;00m\n\u001b[0;32m--> 703\u001b[0m r \u001b[38;5;241m=\u001b[39m \u001b[43madapter\u001b[49m\u001b[38;5;241;43m.\u001b[39;49m\u001b[43msend\u001b[49m\u001b[43m(\u001b[49m\u001b[43mrequest\u001b[49m\u001b[43m,\u001b[49m\u001b[43m \u001b[49m\u001b[38;5;241;43m*\u001b[39;49m\u001b[38;5;241;43m*\u001b[39;49m\u001b[43mkwargs\u001b[49m\u001b[43m)\u001b[49m\n\u001b[1;32m    705\u001b[0m \u001b[38;5;66;03m# Total elapsed time of the request (approximately)\u001b[39;00m\n\u001b[1;32m    706\u001b[0m elapsed \u001b[38;5;241m=\u001b[39m preferred_clock() \u001b[38;5;241m-\u001b[39m start\n",
      "File \u001b[0;32m~/miniforge3/envs/bio/lib/python3.10/site-packages/requests/adapters.py:519\u001b[0m, in \u001b[0;36mHTTPAdapter.send\u001b[0;34m(self, request, stream, timeout, verify, cert, proxies)\u001b[0m\n\u001b[1;32m    515\u001b[0m     \u001b[38;5;28;01mif\u001b[39;00m \u001b[38;5;28misinstance\u001b[39m(e\u001b[38;5;241m.\u001b[39mreason, _SSLError):\n\u001b[1;32m    516\u001b[0m         \u001b[38;5;66;03m# This branch is for urllib3 v1.22 and later.\u001b[39;00m\n\u001b[1;32m    517\u001b[0m         \u001b[38;5;28;01mraise\u001b[39;00m SSLError(e, request\u001b[38;5;241m=\u001b[39mrequest)\n\u001b[0;32m--> 519\u001b[0m     \u001b[38;5;28;01mraise\u001b[39;00m \u001b[38;5;167;01mConnectionError\u001b[39;00m(e, request\u001b[38;5;241m=\u001b[39mrequest)\n\u001b[1;32m    521\u001b[0m \u001b[38;5;28;01mexcept\u001b[39;00m ClosedPoolError \u001b[38;5;28;01mas\u001b[39;00m e:\n\u001b[1;32m    522\u001b[0m     \u001b[38;5;28;01mraise\u001b[39;00m \u001b[38;5;167;01mConnectionError\u001b[39;00m(e, request\u001b[38;5;241m=\u001b[39mrequest)\n",
      "\u001b[0;31mConnectionError\u001b[0m: HTTPConnectionPool(host='78.128.250.156', port=80): Max retries exceeded with url: /send_files (Caused by NewConnectionError('<urllib3.connection.HTTPConnection object at 0x1431555a0>: Failed to establish a new connection: [Errno 61] Connection refused'))"
     ]
    }
   ],
   "source": [
    "add_mol2_charges(\"sample_data/pocket.mol2\")"
   ]
  },
  {
   "cell_type": "code",
   "execution_count": null,
   "metadata": {},
   "outputs": [],
   "source": []
  },
  {
   "cell_type": "markdown",
   "metadata": {},
   "source": [
    "The **init** method initializes the Featurizer object with the following parameters:\n",
    "\n",
    "- atom_codes: A dictionary that maps atomic numbers to specific atom classes.\n",
    "- atom_labels: A list of labels for the atom classes.\n",
    "  named_properties: A list of OpenBabel's pybel.Atom properties to include as features.\n",
    "- save_molecule_codes: A boolean indicating whether to save molecule codes as a feature.\n",
    "- custom_properties: A list of custom callable functions to compute additional features.\n",
    "- smarts_properties: A list of SMARTS patterns to match and include as features.\n",
    "- smarts_labels: A list of labels for the SMARTS patterns.\n",
    "\n",
    "The compile_smarts method compiles the SMARTS patterns for efficient matching.\n",
    "The encode_num method performs one-hot encoding of the atomic number based on the defined atom classes.\n",
    "The find_smarts method finds substructures in the molecule that match the SMARTS patterns and returns a binary feature matrix.\n",
    "The get_features method extracts the features from a given molecule. It ignores hydrogens and dummy atoms, and combines the one-hot encoded atomic numbers, named properties, custom properties, and SMARTS features into a feature matrix.\n",
    "The to_pickle and from_pickle methods allow saving and loading the Featurizer object to/from a pickle file.\n"
   ]
  },
  {
   "cell_type": "code",
   "execution_count": 5,
   "metadata": {},
   "outputs": [],
   "source": []
  },
  {
   "cell_type": "code",
   "execution_count": 16,
   "metadata": {},
   "outputs": [],
   "source": [
    "class Featurizer:\n",
    "    def __init__(\n",
    "        self,\n",
    "        atom_codes=None,\n",
    "        atom_labels=None,\n",
    "        named_properties=None,\n",
    "        save_molecule_codes=True,\n",
    "        custom_properties=None,\n",
    "        smarts_properties=None,\n",
    "        smarts_labels=None,\n",
    "    ):\n",
    "        # initialize list to store names of all features in the correct order\n",
    "        self.FEATURE_NAMES = []\n",
    "\n",
    "        # validate and process atom codes and labels\n",
    "        if atom_codes is not None:\n",
    "            if not isinstance(atom_codes, dict):\n",
    "                raise TypeError(\n",
    "                    \"Atom codes should be dict, got %s instead\" % type(atom_codes)\n",
    "                )\n",
    "\n",
    "            codes = set(atom_codes.values())\n",
    "            for i in range(len(codes)):\n",
    "                if i not in codes:\n",
    "                    raise ValueError(\"Incorrect atom code %s\" % i)\n",
    "\n",
    "            self.NUM_ATOM_CLASSES = len(codes)\n",
    "            self.ATOM_CODES = atom_codes\n",
    "\n",
    "            if atom_labels is not None:\n",
    "                if len(atom_labels) != self.NUM_ATOM_CLASSES:\n",
    "                    raise ValueError(\n",
    "                        \"Incorrect number of atom labels: \"\n",
    "                        \"%s instead of %s\" % (len(atom_labels), self.NUM_ATOM_CLASSES)\n",
    "                    )\n",
    "\n",
    "            else:\n",
    "                atom_labels = [\"atom%s\" % i for i in range(self.NUM_ATOM_CLASSES)]\n",
    "\n",
    "            self.FEATURE_NAMES += atom_labels\n",
    "\n",
    "        else:\n",
    "            self.ATOM_CODES = {}\n",
    "            metals = (\n",
    "                [3, 4, 11, 12, 13]\n",
    "                + list(range(19, 32))\n",
    "                + list(range(37, 51))\n",
    "                + list(range(55, 84))\n",
    "                + list(range(87, 104))\n",
    "            )\n",
    "\n",
    "            # List of tuples (atomic_num, class_name) with atom types to encode\n",
    "            atom_classes = [\n",
    "                (5, \"B\"),\n",
    "                (6, \"C\"),\n",
    "                (7, \"N\"),\n",
    "                (8, \"O\"),\n",
    "                (15, \"P\"),\n",
    "                (16, \"S\"),\n",
    "                (34, \"Se\"),\n",
    "                ([9, 17, 35, 53], \"halogen\"),\n",
    "                (metals, \"metal\"),\n",
    "            ]\n",
    "\n",
    "            for code, (atom, name) in enumerate(atom_classes):\n",
    "                if type(atom) is list:\n",
    "                    for a in atom:\n",
    "                        self.ATOM_CODES[a] = code\n",
    "\n",
    "                else:\n",
    "                    self.ATOM_CODES[atom] = code\n",
    "\n",
    "                self.FEATURE_NAMES.append(name)\n",
    "\n",
    "            self.NUM_ATOM_CLASSES = len(atom_classes)\n",
    "\n",
    "        # validate and process named properties\n",
    "        if named_properties is not None:\n",
    "            if not isinstance(named_properties, (list, tuple, np.ndarray)):\n",
    "                raise TypeError(\"named_properties must be a list\")\n",
    "\n",
    "            allowed_props = [\n",
    "                prop for prop in dir(openbabel.pybel.Atom) if not prop.startswith(\"__\")\n",
    "            ]\n",
    "\n",
    "            for prop_id, prop in enumerate(named_properties):\n",
    "                if prop not in allowed_props:\n",
    "                    raise ValueError(\n",
    "                        \"named_properties must be in pybel.Atom attributes,\"\n",
    "                        \" %s was given at position %s\" % (prop_id, prop)\n",
    "                    )\n",
    "\n",
    "            self.NAMED_PROPS = named_properties\n",
    "\n",
    "        else:\n",
    "            # pybel.Atom properties to save\n",
    "            self.NAMED_PROPS = [\n",
    "                \"hyb\",\n",
    "                \"heavydegree\",\n",
    "                \"heterodegree\",\n",
    "                \"partialcharge\",\n",
    "            ]\n",
    "\n",
    "        self.FEATURE_NAMES += self.NAMED_PROPS\n",
    "\n",
    "        if not isinstance(save_molecule_codes, bool):\n",
    "            raise TypeError(\n",
    "                \"save_molecule_codes should be bool, got %s \"\n",
    "                \"instead\" % type(save_molecule_codes)\n",
    "            )\n",
    "\n",
    "        self.save_molecule_codes = save_molecule_codes\n",
    "\n",
    "        if save_molecule_codes:\n",
    "            # Remember if an atom belongs to the ligand or to the protein\n",
    "            self.FEATURE_NAMES.append(\"molcode\")\n",
    "\n",
    "        # process custom callable properties\n",
    "        self.CALLABLES = []\n",
    "\n",
    "        if custom_properties is not None:\n",
    "            for i, func in enumerate(custom_properties):\n",
    "                if not callable(func):\n",
    "                    raise TypeError(\n",
    "                        \"custom_properties should be list of\"\n",
    "                        \" callables, got %s instead\" % type(func)\n",
    "                    )\n",
    "\n",
    "                name = getattr(func, \"__name__\", \"\")\n",
    "\n",
    "                if name == \"\":\n",
    "                    name = \"func%s\" % i\n",
    "\n",
    "                self.CALLABLES.append(func)\n",
    "\n",
    "                self.FEATURE_NAMES.append(name)\n",
    "\n",
    "        # process SMARTS properties and labels\n",
    "        if smarts_properties is None:\n",
    "            # SMARTS definition for other properties\n",
    "            self.SMARTS = [\n",
    "                \"[#6+0!$(*~[#7,#8,F]),SH0+0v2,s+0,S^3,Cl+0,Br+0,I+0]\",\n",
    "                \"[a]\",\n",
    "                \"[!$([#1,#6,F,Cl,Br,I,o,s,nX3,#7v5,#15v5,#16v4,#16v6,*+1,*+2,*+3])]\",\n",
    "                \"[!$([#6,H0,-,-2,-3]),$([!H0;#7,#8,#9])]\",\n",
    "                \"[r]\",\n",
    "            ]\n",
    "\n",
    "            smarts_labels = [\"hydrophobic\", \"aromatic\", \"acceptor\", \"donor\", \"ring\"]\n",
    "\n",
    "        elif not isinstance(smarts_properties, (list, tuple, np.ndarray)):\n",
    "            raise TypeError(\"smarts_properties must be a list\")\n",
    "\n",
    "        else:\n",
    "            self.SMARTS = smarts_properties\n",
    "\n",
    "        if smarts_labels is not None:\n",
    "            if len(smarts_labels) != len(self.SMARTS):\n",
    "                raise ValueError(\n",
    "                    \"Incorrect number of SMARTS labels: %s\"\n",
    "                    \" instead of %s\" % (len(smarts_labels), len(self.SMARTS))\n",
    "                )\n",
    "\n",
    "        else:\n",
    "            smarts_labels = [\"smarts%s\" % i for i in range(len(self.SMARTS))]\n",
    "\n",
    "        # Compile SMARTS patterns for matching\n",
    "        self.compile_smarts()\n",
    "\n",
    "        self.FEATURE_NAMES += smarts_labels\n",
    "\n",
    "    # define function to compile SMARTS patterns for efficient matching\n",
    "    def compile_smarts(self):\n",
    "        self.__PATTERNS = []\n",
    "\n",
    "        for smarts in self.SMARTS:\n",
    "            self.__PATTERNS.append(openbabel.pybel.Smarts(smarts))\n",
    "\n",
    "    # define function to encode the atomic number using one-hot encoding\n",
    "    def encode_num(self, atomic_num):\n",
    "        if not isinstance(atomic_num, int):\n",
    "            raise TypeError(\n",
    "                \"Atomic number must be int, %s was given\" % type(atomic_num)\n",
    "            )\n",
    "\n",
    "        encoding = np.zeros(self.NUM_ATOM_CLASSES)\n",
    "\n",
    "        try:\n",
    "            encoding[self.ATOM_CODES[atomic_num]] = 1.0\n",
    "\n",
    "        except:\n",
    "            pass\n",
    "\n",
    "        return encoding\n",
    "\n",
    "    # define function to find substructures in the molecule that match the SMARTS patterns\n",
    "    def find_smarts(self, molecule):\n",
    "        if not isinstance(molecule, openbabel.pybel.Molecule):\n",
    "            raise TypeError(\n",
    "                \"molecule must be pybel.Molecule object, %s was given\" % type(molecule)\n",
    "            )\n",
    "\n",
    "        features = np.zeros((len(molecule.atoms), len(self.__PATTERNS)))\n",
    "\n",
    "        for pattern_id, pattern in enumerate(self.__PATTERNS):\n",
    "            atoms_with_prop = (\n",
    "                np.array(list(*zip(*pattern.findall(molecule))), dtype=int) - 1\n",
    "            )\n",
    "\n",
    "            features[atoms_with_prop, pattern_id] = 1.0\n",
    "\n",
    "        return features\n",
    "\n",
    "    # define function to extract the features from the molecule\n",
    "    def get_features(self, molecule, molcode=None):\n",
    "        if not isinstance(molecule, openbabel.pybel.Molecule):\n",
    "            raise TypeError(\n",
    "                \"molecule must be pybel.Molecule object,\"\n",
    "                \" %s was given\" % type(molecule)\n",
    "            )\n",
    "\n",
    "        if molcode is None:\n",
    "            if self.save_molecule_codes is True:\n",
    "                raise ValueError(\n",
    "                    \"save_molecule_codes is set to True,\"\n",
    "                    \" you must specify code for the molecule\"\n",
    "                )\n",
    "\n",
    "        elif not isinstance(molcode, (float, int)):\n",
    "            raise TypeError(\"motlype must be float, %s was given\" % type(molcode))\n",
    "\n",
    "        coords = []\n",
    "        features = []\n",
    "        heavy_atoms = []\n",
    "\n",
    "        for i, atom in enumerate(molecule):\n",
    "            # ignore hydrogens and dummy atoms (they have atomicnum set to 0)\n",
    "            if atom.atomicnum > 1:\n",
    "                heavy_atoms.append(i)\n",
    "\n",
    "                coords.append(atom.coords)\n",
    "\n",
    "                features.append(\n",
    "                    np.concatenate(\n",
    "                        (\n",
    "                            self.encode_num(atom.atomicnum),\n",
    "                            [atom.__getattribute__(prop) for prop in self.NAMED_PROPS],\n",
    "                            [func(atom) for func in self.CALLABLES],\n",
    "                        )\n",
    "                    )\n",
    "                )\n",
    "\n",
    "        coords = np.array(coords, dtype=np.float32)\n",
    "\n",
    "        features = np.array(features, dtype=np.float32)\n",
    "\n",
    "        if self.save_molecule_codes:\n",
    "            features = np.hstack((features, molcode * np.ones((len(features), 1))))\n",
    "\n",
    "        features = np.hstack([features, self.find_smarts(molecule)[heavy_atoms]])\n",
    "\n",
    "        if np.isnan(features).any():\n",
    "            raise RuntimeError(\"Got NaN when calculating features\")\n",
    "\n",
    "        return coords, features\n",
    "\n",
    "    # define function to save the Featurizer to a pickle file\n",
    "    def to_pickle(self, fname=\"featurizer.pkl\"):\n",
    "        # patterns can't be pickled, we need to temporarily remove them\n",
    "        patterns = self.__PATTERNS[:]\n",
    "\n",
    "        del self.__PATTERNS\n",
    "\n",
    "        try:\n",
    "            with open(fname, \"wb\") as f:\n",
    "                pickle.dump(self, f)\n",
    "\n",
    "        finally:\n",
    "            self.__PATTERNS = patterns[:]\n",
    "\n",
    "    @staticmethod\n",
    "    def from_pickle(fname):\n",
    "        with open(fname, \"rb\") as f:\n",
    "            featurizer = pickle.load(f)\n",
    "\n",
    "        featurizer.compile_smarts()\n",
    "\n",
    "        return featurizer"
   ]
  },
  {
   "cell_type": "code",
   "execution_count": 17,
   "metadata": {},
   "outputs": [
    {
     "name": "stdout",
     "output_type": "stream",
     "text": [
      "/Users/marvinprakash/Codes/PLB/HAC-net\n"
     ]
    }
   ],
   "source": [
    "!pwd"
   ]
  },
  {
   "cell_type": "code",
   "execution_count": 18,
   "metadata": {},
   "outputs": [],
   "source": [
    "elements_xml = \"HAC-Net-Repo/HACNet/element_features.xml\""
   ]
  },
  {
   "cell_type": "markdown",
   "metadata": {},
   "source": [
    "In this improved version of the code:\n",
    "\n",
    "- The variable names have been updated to be more meaningful and descriptive.\n",
    "- The leading double underscores have been removed from function names.\n",
    "- Docstrings have been added to the main function and the inner functions to describe their purpose, input parameters, and return values.\n",
    "- Context managers (with statements) have been used for file handling with OpenBabel's `pybel.readfile`.\n",
    "- Intermediate variable names have been improved for better readability.\n",
    "- A constant `MINIMUM_ATOMIC_NUMBER` has been defined to replace the hardcoded value.\n",
    "- The returned variables have been given more descriptive names: atom_features and atom_vdw_radii.\n"
   ]
  },
  {
   "cell_type": "code",
   "execution_count": 19,
   "metadata": {},
   "outputs": [],
   "source": [
    "import xml.etree.ElementTree as ET\n",
    "\n",
    "MINIMUM_ATOMIC_NUMBER = 2\n",
    "\n",
    "\n",
    "def prepare_data(pocket_mol2_charged, ligand_mol2, elements_xml):\n",
    "    # define function to extract features from the binding pocket mol2 file\n",
    "    def __get_pocket():\n",
    "        # define pocket from input pocket_mol2 file\n",
    "        pocket = next(openbabel.pybel.readfile(\"mol2\", pocket_mol2_charged))\n",
    "\n",
    "        # obtain pocket coordinates and features\n",
    "        pocket_coords, pocket_features = featurizer.get_features(pocket, molcode=-1)\n",
    "\n",
    "        # obtain Van der Waals radii of pocket atoms\n",
    "        pocket_vdw = parse_mol_vdw(mol=pocket, element_dict=element_dict)\n",
    "\n",
    "        yield (pocket_coords, pocket_features, pocket_vdw)\n",
    "\n",
    "    # define function to extract information from elements_xml file\n",
    "    def parse_element_description(xml_file):\n",
    "        # initialize dictionary to store element chemical information\n",
    "        element_info_dict = {}\n",
    "\n",
    "        # parse and define elements_xml file\n",
    "        element_info_xml = ET.parse(xml_file)\n",
    "\n",
    "        # for each element in file\n",
    "        for element in element_info_xml.iter():\n",
    "            # if 'comment' is keys of element attributes\n",
    "            if \"comment\" in element.attrib.keys():\n",
    "                # continue\n",
    "                continue\n",
    "\n",
    "            # if 'comment' not in keys of element attributes\n",
    "            else:\n",
    "                # save the attribute to the dictionary value to 'number\n",
    "                element_info_dict[int(element.attrib[\"number\"])] = element.attrib\n",
    "\n",
    "        # return dictionary containing element information\n",
    "        return element_info_dict\n",
    "\n",
    "    # define function to create a list of van der Waals radii for a molecule\n",
    "    def parse_mol_vdw(mol, element_dict):\n",
    "        # initialize list to store Van der Waals radii\n",
    "        vdw_list = []\n",
    "\n",
    "        # for each atom in molecule\n",
    "        for atom in mol.atoms:\n",
    "            # if the atom is not Hydrogen\n",
    "            if int(atom.atomicnum) >= 2:\n",
    "                # append the Van der Waals radius to the list\n",
    "                vdw_list.append(float(element_dict[atom.atomicnum][\"vdWRadius\"]))\n",
    "\n",
    "        # return the Van der Waals list as a numpy array\n",
    "        return np.asarray(vdw_list)\n",
    "\n",
    "    # read in elements_xml and store important information in dictionary\n",
    "    element_dict = parse_element_description(elements_xml)\n",
    "\n",
    "    # define featurizer object\n",
    "    featurizer = Featurizer()\n",
    "\n",
    "    # define object for getting features of pocket\n",
    "    pocket_generator = __get_pocket()\n",
    "\n",
    "    # read ligand file using pybel\n",
    "    ligand = next(openbabel.pybel.readfile(\"mol2\", ligand_mol2))\n",
    "\n",
    "    # extract coordinates, 19 features, and Van der Waals radii from pocket atoms\n",
    "    pocket_coords, pocket_features, pocket_vdw = next(pocket_generator)\n",
    "\n",
    "    # extract coordinates, and 19 features from ligand atoms\n",
    "    ligand_coords, ligand_features = featurizer.get_features(ligand, molcode=1)\n",
    "\n",
    "    # extract Van der Waals radii from ligand atoms\n",
    "    ligand_vdw = parse_mol_vdw(mol=ligand, element_dict=element_dict)\n",
    "\n",
    "    # define centroid to be the center of the ligand\n",
    "    centroid = ligand_coords.mean(axis=0)\n",
    "\n",
    "    # normalize ligand coordinates with respect to centroid\n",
    "    ligand_coords -= centroid\n",
    "\n",
    "    # normalize pocket coordinates with respect to centroid\n",
    "    pocket_coords -= centroid\n",
    "\n",
    "    # assemble the features into one large numpy array where rows are heavy atoms, and columns are coordinates and features\n",
    "    data = np.concatenate(\n",
    "        (\n",
    "            np.concatenate((ligand_coords, pocket_coords)),\n",
    "            np.concatenate((ligand_features, pocket_features)),\n",
    "        ),\n",
    "        axis=1,\n",
    "    )\n",
    "\n",
    "    # concatenate van der Waals radii into one numpy array\n",
    "    vdw_radii = np.concatenate((ligand_vdw, pocket_vdw))\n",
    "\n",
    "    # return properly formatted coordinates, features, and Van der Waals radii\n",
    "    return data, vdw_radii"
   ]
  },
  {
   "cell_type": "code",
   "execution_count": 20,
   "metadata": {},
   "outputs": [],
   "source": [
    "pocket_mol2_charged = \"sample_data/pocket_charged.mol2\"\n",
    "ligand_mol2 = \"sample_data/1dhj_ligand.mol2\"\n",
    "\n",
    "\n",
    "prep_data, prep_vdw = prepare_data(pocket_mol2_charged, ligand_mol2, elements_xml)"
   ]
  },
  {
   "cell_type": "code",
   "execution_count": 21,
   "metadata": {},
   "outputs": [],
   "source": [
    "def voxelize_atoms(xyz_array, features, voxel_dimensions):\n",
    "    \"\"\"\n",
    "    Voxelize the input data by assigning each atom to a voxel based on its coordinates\n",
    "    and adding the atom's features to the corresponding voxel.\n",
    "\n",
    "    Args:\n",
    "        xyz_array (numpy.ndarray): Array containing the coordinates of the atoms.\n",
    "        features (numpy.ndarray): Array containing the features associated with each atom.\n",
    "        voxel_dimensions (tuple): Dimensions of the voxel grid (num_channels, x_dim, y_dim, z_dim).\n",
    "\n",
    "    Returns:\n",
    "        numpy.ndarray: Voxelized data with shape (num_channels, x_dim, y_dim, z_dim).\n",
    "    \"\"\"\n",
    "    num_channels, x_dim, y_dim, z_dim = voxel_dimensions\n",
    "    voxel_data = np.zeros((num_channels, x_dim, y_dim, z_dim), dtype=np.float32)\n",
    "\n",
    "    x_min, x_max = np.min(xyz_array[:, 0]), np.max(xyz_array[:, 0])\n",
    "    y_min, y_max = np.min(xyz_array[:, 1]), np.max(xyz_array[:, 1])\n",
    "    z_min, z_max = np.min(xyz_array[:, 2]), np.max(xyz_array[:, 2])\n",
    "\n",
    "    x_center = (x_min + x_max) / 2\n",
    "    y_center = (y_min + y_max) / 2\n",
    "    z_center = (z_min + z_max) / 2\n",
    "\n",
    "    voxel_size = 48\n",
    "    x_min, x_max = x_center - voxel_size / 2, x_center + voxel_size / 2\n",
    "    y_min, y_max = y_center - voxel_size / 2, y_center + voxel_size / 2\n",
    "    z_min, z_max = z_center - voxel_size / 2, z_center + voxel_size / 2\n",
    "\n",
    "    for atom_index in range(xyz_array.shape[0]):\n",
    "        x, y, z = xyz_array[atom_index]\n",
    "\n",
    "        if not (x_min <= x < x_max and y_min <= y < y_max and z_min <= z < z_max):\n",
    "            continue\n",
    "\n",
    "        voxel_x = int((x - x_min) / (x_max - x_min) * x_dim)\n",
    "        voxel_y = int((y - y_min) / (y_max - y_min) * y_dim)\n",
    "        voxel_z = int((z - z_min) / (z_max - z_min) * z_dim)\n",
    "\n",
    "        voxel_data[:, voxel_x, voxel_y, voxel_z] += features[atom_index]\n",
    "\n",
    "    return voxel_data"
   ]
  },
  {
   "cell_type": "code",
   "execution_count": 22,
   "metadata": {},
   "outputs": [],
   "source": [
    "import torch"
   ]
  },
  {
   "cell_type": "code",
   "execution_count": 23,
   "metadata": {},
   "outputs": [],
   "source": [
    "# prepare voxelized data\n",
    "prep_data_vox = voxelize_atoms(\n",
    "    prep_data[:, 0:3], prep_data[:, 3:], [prep_data.shape[1] - 3, 48, 48, 48]\n",
    ")\n",
    "\n",
    "# add an additional axis and convert to a tensor\n",
    "prep_data_vox = torch.tensor(prep_data_vox[np.newaxis, ...])"
   ]
  },
  {
   "cell_type": "code",
   "execution_count": 26,
   "metadata": {},
   "outputs": [],
   "source": [
    "prep_data_vox.shape\n",
    "\n",
    "# Save the voxelized numpy array to a file\n",
    "np.save(\"sample_data/voxelized_data.npy\", prep_data_vox.numpy())"
   ]
  },
  {
   "cell_type": "code",
   "execution_count": 25,
   "metadata": {},
   "outputs": [
    {
     "data": {
      "text/plain": [
       "(506, 22)"
      ]
     },
     "execution_count": 25,
     "metadata": {},
     "output_type": "execute_result"
    }
   ],
   "source": [
    "prep_data.shape"
   ]
  },
  {
   "cell_type": "code",
   "execution_count": null,
   "metadata": {},
   "outputs": [],
   "source": [
    "# Store this vox_data in a file"
   ]
  },
  {
   "cell_type": "markdown",
   "metadata": {},
   "source": []
  },
  {
   "cell_type": "code",
   "execution_count": 20,
   "metadata": {},
   "outputs": [
    {
     "data": {
      "text/html": [
       "<pre style=\"white-space:pre;overflow-x:auto;line-height:normal;font-family:Menlo,'DejaVu Sans Mono',consolas,'Courier New',monospace\"><span style=\"color: #008000; text-decoration-color: #008000\">Protein PDB file read successfully:</span> sample_data/1dhj_protein.pdb\n",
       "</pre>\n"
      ],
      "text/plain": [
       "\u001b[32mProtein PDB file read successfully:\u001b[0m sample_data/1dhj_protein.pdb\n"
      ]
     },
     "metadata": {},
     "output_type": "display_data"
    },
    {
     "data": {
      "text/html": [
       "<pre style=\"white-space:pre;overflow-x:auto;line-height:normal;font-family:Menlo,'DejaVu Sans Mono',consolas,'Courier New',monospace\"><span style=\"color: #008000; text-decoration-color: #008000\">Ligand MOL2 file read successfully:</span> sample_data/1dhj_ligand.mol2\n",
       "</pre>\n"
      ],
      "text/plain": [
       "\u001b[32mLigand MOL2 file read successfully:\u001b[0m sample_data/1dhj_ligand.mol2\n"
      ]
     },
     "metadata": {},
     "output_type": "display_data"
    },
    {
     "data": {
      "text/html": [
       "<pre style=\"white-space:pre;overflow-x:auto;line-height:normal;font-family:Menlo,'DejaVu Sans Mono',consolas,'Courier New',monospace\">Protein atoms dataframe created.\n",
       "</pre>\n"
      ],
      "text/plain": [
       "Protein atoms dataframe created.\n"
      ]
     },
     "metadata": {},
     "output_type": "display_data"
    },
    {
     "data": {
      "text/html": [
       "<pre style=\"white-space:pre;overflow-x:auto;line-height:normal;font-family:Menlo,'DejaVu Sans Mono',consolas,'Courier New',monospace\">Protein atoms dataframe shape:\n",
       "<span style=\"font-weight: bold\">(</span><span style=\"color: #008080; text-decoration-color: #008080; font-weight: bold\">4889</span>, <span style=\"color: #008080; text-decoration-color: #008080; font-weight: bold\">21</span><span style=\"font-weight: bold\">)</span>\n",
       "</pre>\n"
      ],
      "text/plain": [
       "Protein atoms dataframe shape:\n",
       "\u001b[1m(\u001b[0m\u001b[1;36m4889\u001b[0m, \u001b[1;36m21\u001b[0m\u001b[1m)\u001b[0m\n"
      ]
     },
     "metadata": {},
     "output_type": "display_data"
    },
    {
     "data": {
      "text/html": [
       "<pre style=\"white-space:pre;overflow-x:auto;line-height:normal;font-family:Menlo,'DejaVu Sans Mono',consolas,'Courier New',monospace\">Protein heteroatoms dataframe created.\n",
       "</pre>\n"
      ],
      "text/plain": [
       "Protein heteroatoms dataframe created.\n"
      ]
     },
     "metadata": {},
     "output_type": "display_data"
    },
    {
     "data": {
      "text/html": [
       "<pre style=\"white-space:pre;overflow-x:auto;line-height:normal;font-family:Menlo,'DejaVu Sans Mono',consolas,'Courier New',monospace\">Protein heteroatoms dataframe shape:\n",
       "<span style=\"font-weight: bold\">(</span><span style=\"color: #008080; text-decoration-color: #008080; font-weight: bold\">405</span>, <span style=\"color: #008080; text-decoration-color: #008080; font-weight: bold\">21</span><span style=\"font-weight: bold\">)</span>\n",
       "</pre>\n"
      ],
      "text/plain": [
       "Protein heteroatoms dataframe shape:\n",
       "\u001b[1m(\u001b[0m\u001b[1;36m405\u001b[0m, \u001b[1;36m21\u001b[0m\u001b[1m)\u001b[0m\n"
      ]
     },
     "metadata": {},
     "output_type": "display_data"
    },
    {
     "data": {
      "text/html": [
       "<pre style=\"white-space:pre;overflow-x:auto;line-height:normal;font-family:Menlo,'DejaVu Sans Mono',consolas,'Courier New',monospace\">Ligand non-H atoms dataframe created.\n",
       "</pre>\n"
      ],
      "text/plain": [
       "Ligand non-H atoms dataframe created.\n"
      ]
     },
     "metadata": {},
     "output_type": "display_data"
    },
    {
     "data": {
      "text/html": [
       "<pre style=\"white-space:pre;overflow-x:auto;line-height:normal;font-family:Menlo,'DejaVu Sans Mono',consolas,'Courier New',monospace\">Ligand non-H atoms dataframe shape:\n",
       "<span style=\"font-weight: bold\">(</span><span style=\"color: #008080; text-decoration-color: #008080; font-weight: bold\">33</span>, <span style=\"color: #008080; text-decoration-color: #008080; font-weight: bold\">9</span><span style=\"font-weight: bold\">)</span>\n",
       "</pre>\n"
      ],
      "text/plain": [
       "Ligand non-H atoms dataframe shape:\n",
       "\u001b[1m(\u001b[0m\u001b[1;36m33\u001b[0m, \u001b[1;36m9\u001b[0m\u001b[1m)\u001b[0m\n"
      ]
     },
     "metadata": {},
     "output_type": "display_data"
    },
    {
     "data": {
      "text/html": [
       "<pre style=\"white-space:pre;overflow-x:auto;line-height:normal;font-family:Menlo,'DejaVu Sans Mono',consolas,'Courier New',monospace\">K-d trees created for protein atoms and heteroatoms.\n",
       "</pre>\n"
      ],
      "text/plain": [
       "K-d trees created for protein atoms and heteroatoms.\n"
      ]
     },
     "metadata": {},
     "output_type": "display_data"
    },
    {
     "data": {
      "text/html": [
       "<pre style=\"white-space:pre;overflow-x:auto;line-height:normal;font-family:Menlo,'DejaVu Sans Mono',consolas,'Courier New',monospace\">Nearby protein atoms within <span style=\"color: #008080; text-decoration-color: #008080; font-weight: bold\">8.0</span> Angstroms of ligand atoms found.\n",
       "</pre>\n"
      ],
      "text/plain": [
       "Nearby protein atoms within \u001b[1;36m8.0\u001b[0m Angstroms of ligand atoms found.\n"
      ]
     },
     "metadata": {},
     "output_type": "display_data"
    },
    {
     "data": {
      "text/html": [
       "<pre style=\"white-space:pre;overflow-x:auto;line-height:normal;font-family:Menlo,'DejaVu Sans Mono',consolas,'Courier New',monospace\">Number of nearby protein atoms: <span style=\"color: #008080; text-decoration-color: #008080; font-weight: bold\">33</span>\n",
       "</pre>\n"
      ],
      "text/plain": [
       "Number of nearby protein atoms: \u001b[1;36m33\u001b[0m\n"
      ]
     },
     "metadata": {},
     "output_type": "display_data"
    },
    {
     "data": {
      "text/html": [
       "<pre style=\"white-space:pre;overflow-x:auto;line-height:normal;font-family:Menlo,'DejaVu Sans Mono',consolas,'Courier New',monospace\">Nearby protein heteroatoms within <span style=\"color: #008080; text-decoration-color: #008080; font-weight: bold\">8.0</span> Angstroms of ligand atoms found.\n",
       "</pre>\n"
      ],
      "text/plain": [
       "Nearby protein heteroatoms within \u001b[1;36m8.0\u001b[0m Angstroms of ligand atoms found.\n"
      ]
     },
     "metadata": {},
     "output_type": "display_data"
    },
    {
     "data": {
      "text/html": [
       "<pre style=\"white-space:pre;overflow-x:auto;line-height:normal;font-family:Menlo,'DejaVu Sans Mono',consolas,'Courier New',monospace\">Number of nearby protein heteroatoms: <span style=\"color: #008080; text-decoration-color: #008080; font-weight: bold\">33</span>\n",
       "</pre>\n"
      ],
      "text/plain": [
       "Number of nearby protein heteroatoms: \u001b[1;36m33\u001b[0m\n"
      ]
     },
     "metadata": {},
     "output_type": "display_data"
    },
    {
     "data": {
      "text/html": [
       "<pre style=\"white-space:pre;overflow-x:auto;line-height:normal;font-family:Menlo,'DejaVu Sans Mono',consolas,'Courier New',monospace\">Unique pocket residues extracted.\n",
       "</pre>\n"
      ],
      "text/plain": [
       "Unique pocket residues extracted.\n"
      ]
     },
     "metadata": {},
     "output_type": "display_data"
    },
    {
     "data": {
      "text/html": [
       "<pre style=\"white-space:pre;overflow-x:auto;line-height:normal;font-family:Menlo,'DejaVu Sans Mono',consolas,'Courier New',monospace\">Number of unique pocket residues: <span style=\"color: #008080; text-decoration-color: #008080; font-weight: bold\">54</span>\n",
       "</pre>\n"
      ],
      "text/plain": [
       "Number of unique pocket residues: \u001b[1;36m54\u001b[0m\n"
      ]
     },
     "metadata": {},
     "output_type": "display_data"
    },
    {
     "data": {
      "text/html": [
       "<pre style=\"white-space:pre;overflow-x:auto;line-height:normal;font-family:Menlo,'DejaVu Sans Mono',consolas,'Courier New',monospace\">Unique pocket heteroatoms extracted.\n",
       "</pre>\n"
      ],
      "text/plain": [
       "Unique pocket heteroatoms extracted.\n"
      ]
     },
     "metadata": {},
     "output_type": "display_data"
    },
    {
     "data": {
      "text/html": [
       "<pre style=\"white-space:pre;overflow-x:auto;line-height:normal;font-family:Menlo,'DejaVu Sans Mono',consolas,'Courier New',monospace\">Number of unique pocket heteroatoms: <span style=\"color: #008080; text-decoration-color: #008080; font-weight: bold\">32</span>\n",
       "</pre>\n"
      ],
      "text/plain": [
       "Number of unique pocket heteroatoms: \u001b[1;36m32\u001b[0m\n"
      ]
     },
     "metadata": {},
     "output_type": "display_data"
    },
    {
     "data": {
      "text/html": [
       "<pre style=\"white-space:pre;overflow-x:auto;line-height:normal;font-family:Menlo,'DejaVu Sans Mono',consolas,'Courier New',monospace\">Protein atoms filtered by pocket residues.\n",
       "</pre>\n"
      ],
      "text/plain": [
       "Protein atoms filtered by pocket residues.\n"
      ]
     },
     "metadata": {},
     "output_type": "display_data"
    },
    {
     "data": {
      "text/html": [
       "<pre style=\"white-space:pre;overflow-x:auto;line-height:normal;font-family:Menlo,'DejaVu Sans Mono',consolas,'Courier New',monospace\">Number of pocket atoms: <span style=\"color: #008080; text-decoration-color: #008080; font-weight: bold\">889</span>\n",
       "</pre>\n"
      ],
      "text/plain": [
       "Number of pocket atoms: \u001b[1;36m889\u001b[0m\n"
      ]
     },
     "metadata": {},
     "output_type": "display_data"
    },
    {
     "data": {
      "text/html": [
       "<pre style=\"white-space:pre;overflow-x:auto;line-height:normal;font-family:Menlo,'DejaVu Sans Mono',consolas,'Courier New',monospace\">Only water molecules included in the pocket.\n",
       "</pre>\n"
      ],
      "text/plain": [
       "Only water molecules included in the pocket.\n"
      ]
     },
     "metadata": {},
     "output_type": "display_data"
    },
    {
     "data": {
      "text/html": [
       "<pre style=\"white-space:pre;overflow-x:auto;line-height:normal;font-family:Menlo,'DejaVu Sans Mono',consolas,'Courier New',monospace\">Number of pocket water molecules: <span style=\"color: #008080; text-decoration-color: #008080; font-weight: bold\">32</span>\n",
       "</pre>\n"
      ],
      "text/plain": [
       "Number of pocket water molecules: \u001b[1;36m32\u001b[0m\n"
      ]
     },
     "metadata": {},
     "output_type": "display_data"
    },
    {
     "data": {
      "text/html": [
       "<pre style=\"white-space:pre;overflow-x:auto;line-height:normal;font-family:Menlo,'DejaVu Sans Mono',consolas,'Courier New',monospace\">Biopandas PDB object initialized.\n",
       "</pre>\n"
      ],
      "text/plain": [
       "Biopandas PDB object initialized.\n"
      ]
     },
     "metadata": {},
     "output_type": "display_data"
    },
    {
     "data": {
      "text/html": [
       "<pre style=\"white-space:pre;overflow-x:auto;line-height:normal;font-family:Menlo,'DejaVu Sans Mono',consolas,'Courier New',monospace\">Pocket atoms and heteroatoms assigned to the PDB object.\n",
       "</pre>\n"
      ],
      "text/plain": [
       "Pocket atoms and heteroatoms assigned to the PDB object.\n"
      ]
     },
     "metadata": {},
     "output_type": "display_data"
    },
    {
     "data": {
      "text/html": [
       "<pre style=\"white-space:pre;overflow-x:auto;line-height:normal;font-family:Menlo,'DejaVu Sans Mono',consolas,'Courier New',monospace\"><span style=\"color: #008000; text-decoration-color: #008000\">Pocket PDB file saved as:</span> sample_data/pocket.pdb\n",
       "</pre>\n"
      ],
      "text/plain": [
       "\u001b[32mPocket PDB file saved as:\u001b[0m sample_data/pocket.pdb\n"
      ]
     },
     "metadata": {},
     "output_type": "display_data"
    },
    {
     "ename": "NameError",
     "evalue": "name 'cmd' is not defined",
     "output_type": "error",
     "traceback": [
      "\u001b[0;31m---------------------------------------------------------------------------\u001b[0m",
      "\u001b[0;31mNameError\u001b[0m                                 Traceback (most recent call last)",
      "Cell \u001b[0;32mIn[20], line 12\u001b[0m\n\u001b[1;32m      2\u001b[0m extract_pocket(\n\u001b[1;32m      3\u001b[0m     protein_pdb\u001b[38;5;241m=\u001b[39mos\u001b[38;5;241m.\u001b[39mpath\u001b[38;5;241m.\u001b[39mjoin(\u001b[38;5;124m\"\u001b[39m\u001b[38;5;124msample_data\u001b[39m\u001b[38;5;124m\"\u001b[39m, sample_protein_pdb),\n\u001b[1;32m      4\u001b[0m     ligand_mol2\u001b[38;5;241m=\u001b[39mos\u001b[38;5;241m.\u001b[39mpath\u001b[38;5;241m.\u001b[39mjoin(\u001b[38;5;124m\"\u001b[39m\u001b[38;5;124msample_data\u001b[39m\u001b[38;5;124m\"\u001b[39m, sample_ligand_mol2),\n\u001b[0;32m   (...)\u001b[0m\n\u001b[1;32m      8\u001b[0m     verbose\u001b[38;5;241m=\u001b[39m\u001b[38;5;28;01mTrue\u001b[39;00m,\n\u001b[1;32m      9\u001b[0m )\n\u001b[1;32m     11\u001b[0m \u001b[38;5;66;03m# initialize a pymol state by first deleting everything\u001b[39;00m\n\u001b[0;32m---> 12\u001b[0m \u001b[43mcmd\u001b[49m\u001b[38;5;241m.\u001b[39mdelete(\u001b[38;5;124m\"\u001b[39m\u001b[38;5;124mall\u001b[39m\u001b[38;5;124m\"\u001b[39m)\n\u001b[1;32m     14\u001b[0m \u001b[38;5;66;03m# load in the created pocket pdb file\u001b[39;00m\n\u001b[1;32m     15\u001b[0m cmd\u001b[38;5;241m.\u001b[39mload(\u001b[38;5;124m\"\u001b[39m\u001b[38;5;124msample_data/pocket.pdb\u001b[39m\u001b[38;5;124m\"\u001b[39m)\n",
      "\u001b[0;31mNameError\u001b[0m: name 'cmd' is not defined"
     ]
    }
   ],
   "source": [
    "# Extract the pocket for the sample protein-ligand pair\n",
    "extract_pocket(\n",
    "    protein_pdb=os.path.join(\"sample_data\", sample_protein_pdb),\n",
    "    ligand_mol2=os.path.join(\"sample_data\", sample_ligand_mol2),\n",
    "    distance_threshold=8.0,\n",
    "    output_path=sample_data_path,\n",
    "    include_heteroatoms=False,\n",
    "    verbose=True,\n",
    ")\n",
    "\n",
    "# initialize a pymol state by first deleting everything\n",
    "cmd.delete(\"all\")\n",
    "\n",
    "# load in the created pocket pdb file\n",
    "cmd.load(\"sample_data/pocket.pdb\")\n",
    "\n",
    "# add hydrogens to the water molecules\n",
    "cmd.h_add(\"sol\")\n",
    "\n",
    "# save the state as a mol2 file\n",
    "cmd.save(\"sample_data/pocket.mol2\")\n",
    "\n",
    "\n",
    "# Add Charges\n",
    "\n",
    "\n",
    "# Voxelize\n",
    "pocket_mol2_charged = \"sample_data/pocket_charged.mol2\"\n",
    "ligand_mol2 = \"sample_data/1dhj_ligand.mol2\"\n",
    "\n",
    "\n",
    "prep_data, prep_vdw = prepare_data(pocket_mol2_charged, ligand_mol2, elements_xml)"
   ]
  },
  {
   "cell_type": "code",
   "execution_count": null,
   "metadata": {},
   "outputs": [],
   "source": []
  },
  {
   "cell_type": "code",
   "execution_count": null,
   "metadata": {},
   "outputs": [],
   "source": []
  }
 ],
 "metadata": {
  "kernelspec": {
   "display_name": "Python 3",
   "language": "python",
   "name": "python3"
  },
  "language_info": {
   "codemirror_mode": {
    "name": "ipython",
    "version": 3
   },
   "file_extension": ".py",
   "mimetype": "text/x-python",
   "name": "python",
   "nbconvert_exporter": "python",
   "pygments_lexer": "ipython3",
   "version": "3.10.12"
  }
 },
 "nbformat": 4,
 "nbformat_minor": 2
}
