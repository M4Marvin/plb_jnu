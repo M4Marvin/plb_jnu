{
 "cells": [
  {
   "cell_type": "code",
   "execution_count": 6,
   "metadata": {},
   "outputs": [],
   "source": [
    "import sys\n",
    "from pathlib import Path\n",
    "\n",
    "import pandas as pd\n",
    "from rich.jupyter import print\n",
    "\n",
    "# Add the src directory to the system path\n",
    "src_dir = Path.cwd().parent / \"src\"\n",
    "sys.path.append(str(src_dir))\n",
    "\n",
    "\n",
    "from preprocessing.models import PDBBindDataset  # noqa: E402\n",
    "from preprocessing.processors.protein import PocketProcessor  # noqa: E402"
   ]
  },
  {
   "cell_type": "code",
   "execution_count": 8,
   "metadata": {},
   "outputs": [],
   "source": [
    "# Update paths to include full structure\n",
    "data_root = Path.cwd().parent / \"data\" / \"pdb_bind\"\n",
    "general_dataset_path = data_root / \"general-set\"\n",
    "refined_dataset_path = data_root / \"refined-set\"\n",
    "elements_data_path = Path.cwd().parent / \"data\" / \"elements.csv\"\n"
   ]
  },
  {
   "cell_type": "code",
   "execution_count": 3,
   "metadata": {},
   "outputs": [
    {
     "data": {
      "text/html": [
       "<pre style=\"white-space:pre;overflow-x:auto;line-height:normal;font-family:Menlo,'DejaVu Sans Mono',consolas,'Courier New',monospace\"><span style=\"color: #800080; text-decoration-color: #800080; font-weight: bold\">PDBBindComplex</span><span style=\"font-weight: bold\">(</span>\n",
       "    <span style=\"color: #808000; text-decoration-color: #808000\">pdb_id</span>=<span style=\"color: #008000; text-decoration-color: #008000\">'1a4h'</span>,\n",
       "    <span style=\"color: #808000; text-decoration-color: #808000\">protein_pdb</span>=<span style=\"color: #800080; text-decoration-color: #800080; font-weight: bold\">PosixPath</span><span style=\"font-weight: bold\">(</span><span style=\"color: #008000; text-decoration-color: #008000\">'/Users/marvinprakash/codes/PLB/plb_jnu/data/pdb_bind/general-set/1a4h/1a4h_protein.pdb'</span><span style=\"font-weight: bold\">)</span>\n",
       ",\n",
       "    <span style=\"color: #808000; text-decoration-color: #808000\">ligand_mol2</span>=<span style=\"color: #800080; text-decoration-color: #800080; font-weight: bold\">PosixPath</span><span style=\"font-weight: bold\">(</span><span style=\"color: #008000; text-decoration-color: #008000\">'/Users/marvinprakash/codes/PLB/plb_jnu/data/pdb_bind/general-set/1a4h/1a4h_ligand.mol2'</span><span style=\"font-weight: bold\">)</span>\n",
       ",\n",
       "    <span style=\"color: #808000; text-decoration-color: #808000\">charged_pocket_mol2</span>=<span style=\"color: #800080; text-decoration-color: #800080; font-style: italic\">None</span>,\n",
       "    <span style=\"color: #808000; text-decoration-color: #808000\">affinity</span>=<span style=\"color: #008080; text-decoration-color: #008080; font-weight: bold\">5.92</span>,\n",
       "    <span style=\"color: #808000; text-decoration-color: #808000\">unrealistic_charge_present</span>=<span style=\"color: #ff0000; text-decoration-color: #ff0000; font-style: italic\">False</span>,\n",
       "    <span style=\"color: #808000; text-decoration-color: #808000\">set_type</span>=<span style=\"color: #008000; text-decoration-color: #008000\">'general'</span>\n",
       "<span style=\"font-weight: bold\">)</span>\n",
       "</pre>\n"
      ],
      "text/plain": [
       "\u001b[1;35mPDBBindComplex\u001b[0m\u001b[1m(\u001b[0m\n",
       "    \u001b[33mpdb_id\u001b[0m=\u001b[32m'1a4h'\u001b[0m,\n",
       "    \u001b[33mprotein_pdb\u001b[0m=\u001b[1;35mPosixPath\u001b[0m\u001b[1m(\u001b[0m\u001b[32m'/Users/marvinprakash/codes/PLB/plb_jnu/data/pdb_bind/general-set/1a4h/1a4h_protein.pdb'\u001b[0m\u001b[1m)\u001b[0m\n",
       ",\n",
       "    \u001b[33mligand_mol2\u001b[0m=\u001b[1;35mPosixPath\u001b[0m\u001b[1m(\u001b[0m\u001b[32m'/Users/marvinprakash/codes/PLB/plb_jnu/data/pdb_bind/general-set/1a4h/1a4h_ligand.mol2'\u001b[0m\u001b[1m)\u001b[0m\n",
       ",\n",
       "    \u001b[33mcharged_pocket_mol2\u001b[0m=\u001b[3;35mNone\u001b[0m,\n",
       "    \u001b[33maffinity\u001b[0m=\u001b[1;36m5\u001b[0m\u001b[1;36m.92\u001b[0m,\n",
       "    \u001b[33munrealistic_charge_present\u001b[0m=\u001b[3;91mFalse\u001b[0m,\n",
       "    \u001b[33mset_type\u001b[0m=\u001b[32m'general'\u001b[0m\n",
       "\u001b[1m)\u001b[0m\n"
      ]
     },
     "metadata": {},
     "output_type": "display_data"
    },
    {
     "data": {
      "text/html": [
       "<pre style=\"white-space:pre;overflow-x:auto;line-height:normal;font-family:Menlo,'DejaVu Sans Mono',consolas,'Courier New',monospace\"><span style=\"color: #008080; text-decoration-color: #008080; font-weight: bold\">19443</span>\n",
       "</pre>\n"
      ],
      "text/plain": [
       "\u001b[1;36m19443\u001b[0m\n"
      ]
     },
     "metadata": {},
     "output_type": "display_data"
    }
   ],
   "source": [
    "# Create PDBBind dataset object\n",
    "dataset = PDBBindDataset.from_root(data_root)\n",
    "\n",
    "# Now you can access any complex like:\n",
    "complex_1a1b = dataset.get_complex(\"1a4h\")\n",
    "\n",
    "print(complex_1a1b)\n",
    "print(dataset.complexes.__len__())"
   ]
  },
  {
   "cell_type": "code",
   "execution_count": 4,
   "metadata": {},
   "outputs": [
    {
     "data": {
      "text/plain": [
       "PosixPath('/Users/marvinprakash/codes/PLB/plb_jnu/data/pdb_bind/general-set/1a4h/1a4h_charged_pocket.mol2')"
      ]
     },
     "execution_count": 4,
     "metadata": {},
     "output_type": "execute_result"
    }
   ],
   "source": [
    "pp = PocketProcessor()\n",
    "pp.process_complex(complex=complex_1a1b)"
   ]
  },
  {
   "cell_type": "code",
   "execution_count": 15,
   "metadata": {},
   "outputs": [
    {
     "data": {
      "text/html": [
       "<pre style=\"white-space:pre;overflow-x:auto;line-height:normal;font-family:Menlo,'DejaVu Sans Mono',consolas,'Courier New',monospace\"><span style=\"font-weight: bold\">(</span><span style=\"color: #008080; text-decoration-color: #008080; font-weight: bold\">112</span>, <span style=\"color: #008080; text-decoration-color: #008080; font-weight: bold\">19</span><span style=\"font-weight: bold\">)</span>\n",
       "</pre>\n"
      ],
      "text/plain": [
       "\u001b[1m(\u001b[0m\u001b[1;36m112\u001b[0m, \u001b[1;36m19\u001b[0m\u001b[1m)\u001b[0m\n"
      ]
     },
     "metadata": {},
     "output_type": "display_data"
    },
    {
     "data": {
      "text/html": [
       "<pre style=\"white-space:pre;overflow-x:auto;line-height:normal;font-family:Menlo,'DejaVu Sans Mono',consolas,'Courier New',monospace\">number              <span style=\"color: #008080; text-decoration-color: #008080; font-weight: bold\">0</span>\n",
       "name                <span style=\"color: #008080; text-decoration-color: #008080; font-weight: bold\">0</span>\n",
       "symbol              <span style=\"color: #008080; text-decoration-color: #008080; font-weight: bold\">0</span>\n",
       "mass                <span style=\"color: #008080; text-decoration-color: #008080; font-weight: bold\">0</span>\n",
       "group               <span style=\"color: #008080; text-decoration-color: #008080; font-weight: bold\">0</span>\n",
       "period              <span style=\"color: #008080; text-decoration-color: #008080; font-weight: bold\">0</span>\n",
       "radius            <span style=\"color: #008080; text-decoration-color: #008080; font-weight: bold\">111</span>\n",
       "red                 <span style=\"color: #008080; text-decoration-color: #008080; font-weight: bold\">0</span>\n",
       "green               <span style=\"color: #008080; text-decoration-color: #008080; font-weight: bold\">0</span>\n",
       "blue                <span style=\"color: #008080; text-decoration-color: #008080; font-weight: bold\">0</span>\n",
       "valence             <span style=\"color: #008080; text-decoration-color: #008080; font-weight: bold\">0</span>\n",
       "filledShell         <span style=\"color: #008080; text-decoration-color: #008080; font-weight: bold\">0</span>\n",
       "covalentRadius      <span style=\"color: #008080; text-decoration-color: #008080; font-weight: bold\">0</span>\n",
       "vdWRadius           <span style=\"color: #008080; text-decoration-color: #008080; font-weight: bold\">0</span>\n",
       "covalent            <span style=\"color: #008080; text-decoration-color: #008080; font-weight: bold\">1</span>\n",
       "paulingEN           <span style=\"color: #008080; text-decoration-color: #008080; font-weight: bold\">0</span>\n",
       "seHams             <span style=\"color: #008080; text-decoration-color: #008080; font-weight: bold\">80</span>\n",
       "scovalent         <span style=\"color: #008080; text-decoration-color: #008080; font-weight: bold\">111</span>\n",
       "eHams             <span style=\"color: #008080; text-decoration-color: #008080; font-weight: bold\">111</span>\n",
       "dtype: int64\n",
       "</pre>\n"
      ],
      "text/plain": [
       "number              \u001b[1;36m0\u001b[0m\n",
       "name                \u001b[1;36m0\u001b[0m\n",
       "symbol              \u001b[1;36m0\u001b[0m\n",
       "mass                \u001b[1;36m0\u001b[0m\n",
       "group               \u001b[1;36m0\u001b[0m\n",
       "period              \u001b[1;36m0\u001b[0m\n",
       "radius            \u001b[1;36m111\u001b[0m\n",
       "red                 \u001b[1;36m0\u001b[0m\n",
       "green               \u001b[1;36m0\u001b[0m\n",
       "blue                \u001b[1;36m0\u001b[0m\n",
       "valence             \u001b[1;36m0\u001b[0m\n",
       "filledShell         \u001b[1;36m0\u001b[0m\n",
       "covalentRadius      \u001b[1;36m0\u001b[0m\n",
       "vdWRadius           \u001b[1;36m0\u001b[0m\n",
       "covalent            \u001b[1;36m1\u001b[0m\n",
       "paulingEN           \u001b[1;36m0\u001b[0m\n",
       "seHams             \u001b[1;36m80\u001b[0m\n",
       "scovalent         \u001b[1;36m111\u001b[0m\n",
       "eHams             \u001b[1;36m111\u001b[0m\n",
       "dtype: int64\n"
      ]
     },
     "metadata": {},
     "output_type": "display_data"
    },
    {
     "data": {
      "text/html": [
       "<div>\n",
       "<style scoped>\n",
       "    .dataframe tbody tr th:only-of-type {\n",
       "        vertical-align: middle;\n",
       "    }\n",
       "\n",
       "    .dataframe tbody tr th {\n",
       "        vertical-align: top;\n",
       "    }\n",
       "\n",
       "    .dataframe thead th {\n",
       "        text-align: right;\n",
       "    }\n",
       "</style>\n",
       "<table border=\"1\" class=\"dataframe\">\n",
       "  <thead>\n",
       "    <tr style=\"text-align: right;\">\n",
       "      <th></th>\n",
       "      <th>number</th>\n",
       "      <th>name</th>\n",
       "      <th>symbol</th>\n",
       "      <th>mass</th>\n",
       "      <th>group</th>\n",
       "      <th>period</th>\n",
       "      <th>radius</th>\n",
       "      <th>red</th>\n",
       "      <th>green</th>\n",
       "      <th>blue</th>\n",
       "      <th>valence</th>\n",
       "      <th>filledShell</th>\n",
       "      <th>covalentRadius</th>\n",
       "      <th>vdWRadius</th>\n",
       "      <th>covalent</th>\n",
       "      <th>paulingEN</th>\n",
       "      <th>seHams</th>\n",
       "      <th>scovalent</th>\n",
       "      <th>eHams</th>\n",
       "    </tr>\n",
       "  </thead>\n",
       "  <tbody>\n",
       "    <tr>\n",
       "      <th>0</th>\n",
       "      <td>0</td>\n",
       "      <td>X</td>\n",
       "      <td>X</td>\n",
       "      <td>0.000000</td>\n",
       "      <td>0</td>\n",
       "      <td>0</td>\n",
       "      <td>0.1</td>\n",
       "      <td>0.0</td>\n",
       "      <td>0.0</td>\n",
       "      <td>0.0</td>\n",
       "      <td>0</td>\n",
       "      <td>0</td>\n",
       "      <td>0.00</td>\n",
       "      <td>0.00</td>\n",
       "      <td>0.0</td>\n",
       "      <td>0.00</td>\n",
       "      <td>NaN</td>\n",
       "      <td>NaN</td>\n",
       "      <td>NaN</td>\n",
       "    </tr>\n",
       "    <tr>\n",
       "      <th>1</th>\n",
       "      <td>1</td>\n",
       "      <td>Hydrogen</td>\n",
       "      <td>H</td>\n",
       "      <td>1.007940</td>\n",
       "      <td>1</td>\n",
       "      <td>1</td>\n",
       "      <td>NaN</td>\n",
       "      <td>1.0</td>\n",
       "      <td>1.0</td>\n",
       "      <td>1.0</td>\n",
       "      <td>1</td>\n",
       "      <td>2</td>\n",
       "      <td>0.23</td>\n",
       "      <td>1.20</td>\n",
       "      <td>1.0</td>\n",
       "      <td>2.20</td>\n",
       "      <td>MNDO AM1 PM3 MNDOD PDDG-PM3 MNDONMR</td>\n",
       "      <td>NaN</td>\n",
       "      <td>NaN</td>\n",
       "    </tr>\n",
       "    <tr>\n",
       "      <th>2</th>\n",
       "      <td>2</td>\n",
       "      <td>Helium</td>\n",
       "      <td>He</td>\n",
       "      <td>4.002600</td>\n",
       "      <td>18</td>\n",
       "      <td>1</td>\n",
       "      <td>NaN</td>\n",
       "      <td>0.0</td>\n",
       "      <td>1.0</td>\n",
       "      <td>1.0</td>\n",
       "      <td>2</td>\n",
       "      <td>2</td>\n",
       "      <td>1.50</td>\n",
       "      <td>1.40</td>\n",
       "      <td>0.0</td>\n",
       "      <td>0.00</td>\n",
       "      <td>NaN</td>\n",
       "      <td>NaN</td>\n",
       "      <td>NaN</td>\n",
       "    </tr>\n",
       "    <tr>\n",
       "      <th>3</th>\n",
       "      <td>3</td>\n",
       "      <td>Lithium</td>\n",
       "      <td>Li</td>\n",
       "      <td>6.941000</td>\n",
       "      <td>1</td>\n",
       "      <td>2</td>\n",
       "      <td>NaN</td>\n",
       "      <td>0.0</td>\n",
       "      <td>1.0</td>\n",
       "      <td>1.0</td>\n",
       "      <td>1</td>\n",
       "      <td>8</td>\n",
       "      <td>0.68</td>\n",
       "      <td>1.82</td>\n",
       "      <td>0.0</td>\n",
       "      <td>0.98</td>\n",
       "      <td>MNDO AM1 MNDOD MNDONMR</td>\n",
       "      <td>NaN</td>\n",
       "      <td>NaN</td>\n",
       "    </tr>\n",
       "    <tr>\n",
       "      <th>4</th>\n",
       "      <td>4</td>\n",
       "      <td>Beryllium</td>\n",
       "      <td>Be</td>\n",
       "      <td>9.012182</td>\n",
       "      <td>2</td>\n",
       "      <td>2</td>\n",
       "      <td>NaN</td>\n",
       "      <td>0.0</td>\n",
       "      <td>1.0</td>\n",
       "      <td>1.0</td>\n",
       "      <td>2</td>\n",
       "      <td>8</td>\n",
       "      <td>0.35</td>\n",
       "      <td>2.00</td>\n",
       "      <td>0.0</td>\n",
       "      <td>1.57</td>\n",
       "      <td>MNDO AM1 PM3 MNDOD PDDG-PM3 MNDONMR</td>\n",
       "      <td>NaN</td>\n",
       "      <td>NaN</td>\n",
       "    </tr>\n",
       "  </tbody>\n",
       "</table>\n",
       "</div>"
      ],
      "text/plain": [
       "   number       name symbol      mass  group  period  radius  red  green  \\\n",
       "0       0          X      X  0.000000      0       0     0.1  0.0    0.0   \n",
       "1       1   Hydrogen      H  1.007940      1       1     NaN  1.0    1.0   \n",
       "2       2     Helium     He  4.002600     18       1     NaN  0.0    1.0   \n",
       "3       3    Lithium     Li  6.941000      1       2     NaN  0.0    1.0   \n",
       "4       4  Beryllium     Be  9.012182      2       2     NaN  0.0    1.0   \n",
       "\n",
       "   blue  valence  filledShell  covalentRadius  vdWRadius  covalent  paulingEN  \\\n",
       "0   0.0        0            0            0.00       0.00       0.0       0.00   \n",
       "1   1.0        1            2            0.23       1.20       1.0       2.20   \n",
       "2   1.0        2            2            1.50       1.40       0.0       0.00   \n",
       "3   1.0        1            8            0.68       1.82       0.0       0.98   \n",
       "4   1.0        2            8            0.35       2.00       0.0       1.57   \n",
       "\n",
       "                                seHams  scovalent eHams  \n",
       "0                                  NaN        NaN   NaN  \n",
       "1  MNDO AM1 PM3 MNDOD PDDG-PM3 MNDONMR        NaN   NaN  \n",
       "2                                  NaN        NaN   NaN  \n",
       "3               MNDO AM1 MNDOD MNDONMR        NaN   NaN  \n",
       "4  MNDO AM1 PM3 MNDOD PDDG-PM3 MNDONMR        NaN   NaN  "
      ]
     },
     "execution_count": 15,
     "metadata": {},
     "output_type": "execute_result"
    }
   ],
   "source": [
    "elements = pd.read_csv(elements_data_path)\n",
    "print(elements.shape)\n",
    "\n",
    "# Count the nan values in each columns\n",
    "nan_counts = elements.isna().sum()\n",
    "print(nan_counts)\n",
    "\n",
    "elements.head()"
   ]
  },
  {
   "cell_type": "code",
   "execution_count": 18,
   "metadata": {},
   "outputs": [
    {
     "ename": "ModuleNotFoundError",
     "evalue": "No module named 'tfbio'",
     "output_type": "error",
     "traceback": [
      "\u001b[0;31m---------------------------------------------------------------------------\u001b[0m",
      "\u001b[0;31mModuleNotFoundError\u001b[0m                       Traceback (most recent call last)",
      "Cell \u001b[0;32mIn[18], line 1\u001b[0m\n\u001b[0;32m----> 1\u001b[0m \u001b[38;5;28;01mfrom\u001b[39;00m\u001b[38;5;250m \u001b[39m\u001b[38;5;21;01mtfbio\u001b[39;00m\u001b[38;5;21;01m.\u001b[39;00m\u001b[38;5;21;01mdata\u001b[39;00m\u001b[38;5;250m \u001b[39m\u001b[38;5;28;01mimport\u001b[39;00m Featurizer\n",
      "\u001b[0;31mModuleNotFoundError\u001b[0m: No module named 'tfbio'"
     ]
    }
   ],
   "source": [
    "from tfbio.data import Featurizer"
   ]
  },
  {
   "cell_type": "code",
   "execution_count": null,
   "metadata": {},
   "outputs": [],
   "source": []
  }
 ],
 "metadata": {
  "kernelspec": {
   "display_name": "bio",
   "language": "python",
   "name": "python3"
  },
  "language_info": {
   "codemirror_mode": {
    "name": "ipython",
    "version": 3
   },
   "file_extension": ".py",
   "mimetype": "text/x-python",
   "name": "python",
   "nbconvert_exporter": "python",
   "pygments_lexer": "ipython3",
   "version": "3.12.8"
  }
 },
 "nbformat": 4,
 "nbformat_minor": 2
}
